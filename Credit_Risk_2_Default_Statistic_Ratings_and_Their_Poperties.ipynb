{
  "nbformat": 4,
  "nbformat_minor": 0,
  "metadata": {
    "colab": {
      "provenance": [],
      "include_colab_link": true
    },
    "kernelspec": {
      "name": "python3",
      "display_name": "Python 3"
    },
    "language_info": {
      "name": "python"
    }
  },
  "cells": [
    {
      "cell_type": "markdown",
      "metadata": {
        "id": "view-in-github",
        "colab_type": "text"
      },
      "source": [
        "<a href=\"https://colab.research.google.com/github/olesyamba/Risk_analysis/blob/main/Credit_Risk_2_Default_Statistic_Ratings_and_Their_Poperties_ipynb%22.ipynb\" target=\"_parent\"><img src=\"https://colab.research.google.com/assets/colab-badge.svg\" alt=\"Open In Colab\"/></a>"
      ]
    },
    {
      "cell_type": "markdown",
      "metadata": {
        "id": "IXx8ZHQe-_ck"
      },
      "source": [
        "# 2. Статистика дефолтов, рейтинги и их свойства"
      ]
    },
    {
      "cell_type": "markdown",
      "metadata": {
        "id": "UnsbMxaVzOmM"
      },
      "source": [
        "Для оценки вероятностей дефолтов требуется дополнительный инструментарий - показатель ранжирования по кредитному риску - рейтинги, скоринг, рыночные меры кредитного риска (например, спрэд облигаций).\n",
        "\n",
        "В этом курсе мы рассматриваем рейтинги - набор категорий или ступеней кредитного качества, по которым распределяются все заемщики.  \n",
        "\n",
        "Обозначать рейтинговую категорию будем $Ri$. Если $i < j$, то $Ri \\succ Rj$, т.е. кредитный риск в категории $Ri$ **ниже**, чем в категрии $Rj$.\n",
        "\n",
        "**Качественный рейтинг**:\n",
        " - монотонно ранжирует по кредитному качеству,\n",
        " - категории как можно сильнее различаются по уровню кредитного качества (что выражается в стремительном росте PD).\n",
        "\n",
        "Рассматриваем риск дефолта на горизонте $h$.\n",
        "\n",
        "| Rating | Rated at t (N) | Defaulted by t+h (D)  | Survived by t+h (S)|\n",
        "|:-------|:-------|:-------|:-------|\n",
        "| R1| 10 | 0 | 10 |\n",
        "|R2 | 20 | 1 | 19|\n",
        "|R3 | 30 | 3 | 27|\n",
        "....\n",
        "\n",
        "<font color='red'>**Важно**</font>\n",
        "\n",
        "В $N$ входят только те заемщики, для которых:\n",
        "\n",
        "* горизонт риска не меньше $h$,\n",
        "* однозначно можно определить допустил или нет дефолт заемщик (т.е. достоверно можно отнести к столбцу $D$ и $S$ на выбранном горизонте.\n",
        "\n",
        "Изменение $h$ может изменять количество наблюдений в $N$: например, рост горизонта приводит к тому, что количество наблюдений в N уменьшается, а дефолтеров растет. Т.е. структура выборки меняется."
      ]
    },
    {
      "cell_type": "code",
      "source": [
        "import numpy as np\n",
        "import pandas as pd\n",
        "import matplotlib.pyplot as plt"
      ],
      "metadata": {
        "id": "eD3ZUpbXWyfZ"
      },
      "execution_count": null,
      "outputs": []
    },
    {
      "cell_type": "code",
      "metadata": {
        "colab": {
          "base_uri": "https://localhost:8080/",
          "height": 830
        },
        "id": "YFVk-16ON6u_",
        "outputId": "3d42c9f7-7b68-4691-966b-6d06ae8d9815"
      },
      "source": [
        "k = 8 # количество рейтинговых категорий, исключая дефолт\n",
        "\n",
        "# Зададим рейтинговую шкалу\n",
        "grades = ['R{}'.format(i+1) for i in range(k)]\n",
        "\n",
        "# Пусть каждой рейтинговой категории соответствует своя вероятность дефолта\n",
        "# Профиль PD монотонно возрастает\n",
        "pds = np.array([.01, 0.015, .03, .05, .10, .16, .24, .68 ])\n",
        "plt.plot(grades, 100*pds, '-s')\n",
        "plt.title('Профиль теоритических оценок PD')\n",
        "plt.ylabel('PD, в %')\n",
        "plt.grid(), plt.show()\n",
        "\n",
        "# Рассмотрим распределение заемщиков по рейтинговым категориям\n",
        "N  = np.array([10, 20, 30, 40, 50, 40, 30, 20])\n",
        "\n",
        "# Сгенерируем дефолты\n",
        "np.random.seed(65)\n",
        "D = np.random.binomial(N, pds)\n",
        "S = N - D\n",
        "\n",
        "data = pd.DataFrame({\n",
        "                     'N': N,\n",
        "                     'D': D,\n",
        "                     'S': N - D,\n",
        "                          }, index = grades)\n",
        "display(data)\n",
        "\n",
        "# Вспомогательный код для подписей к осям\n",
        "x_1 = [i-0.25 for i in range(8)]\n",
        "x_2 = [i+0.25 for i in range(8)]\n",
        "\n",
        "# Распределение исходных наблюдения против распределения наблюдений за дефолтерам\n",
        "plt.subplot(1, 2, 1)\n",
        "plt.bar(x_1, (N/N.sum())[::-1],width=0.5, label = 'Rated entities')\n",
        "plt.bar(x_2, (D/D.sum())[::-1], width=0.5, label = 'Defaults')\n",
        "plt.title(r'F(N(t)) vs F(D(t+h))')\n",
        "plt.xticks(range(8), grades[-1::-1]), plt.grid(), plt.legend()\n",
        "# plt.show()\n",
        "\n",
        "# Распределение добросовестных заемщиков против распределения дефолтеров\n",
        "plt.subplot(1, 2, 2)\n",
        "plt.bar(x_1, (S/S.sum())[::-1],width=0.5, label = 'Survivals')\n",
        "plt.bar(x_2, (D/D.sum())[::-1],width=0.5, label = 'Defaults')\n",
        "plt.title(r'$F (S(t+h))$ vs $F( D(t+h))$')\n",
        "plt.xticks(range(8), grades[-1::-1]), plt.grid(), plt.legend()\n",
        "plt.show()\n"
      ],
      "execution_count": null,
      "outputs": [
        {
          "output_type": "display_data",
          "data": {
            "text/plain": [
              "<Figure size 432x288 with 1 Axes>"
            ],
            "image/png": "[encoded data removed]"
          },
          "metadata": {
            "needs_background": "light"
          }
        },
        {
          "output_type": "display_data",
          "data": {
            "text/plain": [
              "     N   D   S\n",
              "R1  10   0  10\n",
              "R2  20   0  20\n",
              "R3  30   0  30\n",
              "R4  40   1  39\n",
              "R5  50   4  46\n",
              "R6  40   4  36\n",
              "R7  30   8  22\n",
              "R8  20  12   8"
            ],
            "text/html": [
              "\n",
              "  <div id=\"df-b9afb7bb-0c34-4523-b364-77201a9f9cd7\">\n",
              "    <div class=\"colab-df-container\">\n",
              "      <div>\n",
              "<style scoped>\n",
              "    .dataframe tbody tr th:only-of-type {\n",
              "        vertical-align: middle;\n",
              "    }\n",
              "\n",
              "    .dataframe tbody tr th {\n",
              "        vertical-align: top;\n",
              "    }\n",
              "\n",
              "    .dataframe thead th {\n",
              "        text-align: right;\n",
              "    }\n",
              "</style>\n",
              "<table border=\"1\" class=\"dataframe\">\n",
              "  <thead>\n",
              "    <tr style=\"text-align: right;\">\n",
              "      <th></th>\n",
              "      <th>N</th>\n",
              "      <th>D</th>\n",
              "      <th>S</th>\n",
              "    </tr>\n",
              "  </thead>\n",
              "  <tbody>\n",
              "    <tr>\n",
              "      <th>R1</th>\n",
              "      <td>10</td>\n",
              "      <td>0</td>\n",
              "      <td>10</td>\n",
              "    </tr>\n",
              "    <tr>\n",
              "      <th>R2</th>\n",
              "      <td>20</td>\n",
              "      <td>0</td>\n",
              "      <td>20</td>\n",
              "    </tr>\n",
              "    <tr>\n",
              "      <th>R3</th>\n",
              "      <td>30</td>\n",
              "      <td>0</td>\n",
              "      <td>30</td>\n",
              "    </tr>\n",
              "    <tr>\n",
              "      <th>R4</th>\n",
              "      <td>40</td>\n",
              "      <td>1</td>\n",
              "      <td>39</td>\n",
              "    </tr>\n",
              "    <tr>\n",
              "      <th>R5</th>\n",
              "      <td>50</td>\n",
              "      <td>4</td>\n",
              "      <td>46</td>\n",
              "    </tr>\n",
              "    <tr>\n",
              "      <th>R6</th>\n",
              "      <td>40</td>\n",
              "      <td>4</td>\n",
              "      <td>36</td>\n",
              "    </tr>\n",
              "    <tr>\n",
              "      <th>R7</th>\n",
              "      <td>30</td>\n",
              "      <td>8</td>\n",
              "      <td>22</td>\n",
              "    </tr>\n",
              "    <tr>\n",
              "      <th>R8</th>\n",
              "      <td>20</td>\n",
              "      <td>12</td>\n",
              "      <td>8</td>\n",
              "    </tr>\n",
              "  </tbody>\n",
              "</table>\n",
              "</div>\n",
              "      <button class=\"colab-df-convert\" onclick=\"convertToInteractive('df-b9afb7bb-0c34-4523-b364-77201a9f9cd7')\"\n",
              "              title=\"Convert this dataframe to an interactive table.\"\n",
              "              style=\"display:none;\">\n",
              "        \n",
              "  <svg xmlns=\"http://www.w3.org/2000/svg\" height=\"24px\"viewBox=\"0 0 24 24\"\n",
              "       width=\"24px\">\n",
              "    <path d=\"M0 0h24v24H0V0z\" fill=\"none\"/>\n",
              "    <path d=\"M18.56 5.44l.94 2.06.94-2.06 2.06-.94-2.06-.94-.94-2.06-.94 2.06-2.06.94zm-11 1L8.5 8.5l.94-2.06 2.06-.94-2.06-.94L8.5 2.5l-.94 2.06-2.06.94zm10 10l.94 2.06.94-2.06 2.06-.94-2.06-.94-.94-2.06-.94 2.06-2.06.94z\"/><path d=\"M17.41 7.96l-1.37-1.37c-.4-.4-.92-.59-1.43-.59-.52 0-1.04.2-1.43.59L10.3 9.45l-7.72 7.72c-.78.78-.78 2.05 0 2.83L4 21.41c.39.39.9.59 1.41.59.51 0 1.02-.2 1.41-.59l7.78-7.78 2.81-2.81c.8-.78.8-2.07 0-2.86zM5.41 20L4 18.59l7.72-7.72 1.47 1.35L5.41 20z\"/>\n",
              "  </svg>\n",
              "      </button>\n",
              "      \n",
              "  <style>\n",
              "    .colab-df-container {\n",
              "      display:flex;\n",
              "      flex-wrap:wrap;\n",
              "      gap: 12px;\n",
              "    }\n",
              "\n",
              "    .colab-df-convert {\n",
              "      background-color: #E8F0FE;\n",
              "      border: none;\n",
              "      border-radius: 50%;\n",
              "      cursor: pointer;\n",
              "      display: none;\n",
              "      fill: #1967D2;\n",
              "      height: 32px;\n",
              "      padding: 0 0 0 0;\n",
              "      width: 32px;\n",
              "    }\n",
              "\n",
              "    .colab-df-convert:hover {\n",
              "      background-color: #E2EBFA;\n",
              "      box-shadow: 0px 1px 2px rgba(60, 64, 67, 0.3), 0px 1px 3px 1px rgba(60, 64, 67, 0.15);\n",
              "      fill: #174EA6;\n",
              "    }\n",
              "\n",
              "    [theme=dark] .colab-df-convert {\n",
              "      background-color: #3B4455;\n",
              "      fill: #D2E3FC;\n",
              "    }\n",
              "\n",
              "    [theme=dark] .colab-df-convert:hover {\n",
              "      background-color: #434B5C;\n",
              "      box-shadow: 0px 1px 3px 1px rgba(0, 0, 0, 0.15);\n",
              "      filter: drop-shadow(0px 1px 2px rgba(0, 0, 0, 0.3));\n",
              "      fill: #FFFFFF;\n",
              "    }\n",
              "  </style>\n",
              "\n",
              "      <script>\n",
              "        const buttonEl =\n",
              "          document.querySelector('#df-b9afb7bb-0c34-4523-b364-77201a9f9cd7 button.colab-df-convert');\n",
              "        buttonEl.style.display =\n",
              "          google.colab.kernel.accessAllowed ? 'block' : 'none';\n",
              "\n",
              "        async function convertToInteractive(key) {\n",
              "          const element = document.querySelector('#df-b9afb7bb-0c34-4523-b364-77201a9f9cd7');\n",
              "          const dataTable =\n",
              "            await google.colab.kernel.invokeFunction('convertToInteractive',\n",
              "                                                     [key], {});\n",
              "          if (!dataTable) return;\n",
              "\n",
              "          const docLinkHtml = 'Like what you see? Visit the ' +\n",
              "            '<a target=\"_blank\" href=https://colab.research.google.com/notebooks/data_table.ipynb>data table notebook</a>'\n",
              "            + ' to learn more about interactive tables.';\n",
              "          element.innerHTML = '';\n",
              "          dataTable['output_type'] = 'display_data';\n",
              "          await google.colab.output.renderOutput(dataTable, element);\n",
              "          const docLink = document.createElement('div');\n",
              "          docLink.innerHTML = docLinkHtml;\n",
              "          element.appendChild(docLink);\n",
              "        }\n",
              "      </script>\n",
              "    </div>\n",
              "  </div>\n",
              "  "
            ]
          },
          "metadata": {}
        },
        {
          "output_type": "display_data",
          "data": {
            "text/plain": [
              "<Figure size 432x288 with 2 Axes>"
            ],
            "image/png": "[encoded data removed]"
          },
          "metadata": {
            "needs_background": "light"
          }
        }
      ]
    },
    {
      "cell_type": "markdown",
      "source": [
        "## Дискриминационная способность рейтингов\n",
        "\n",
        "Графические инструменты:\n",
        "\n",
        "- Cumulative Accuracy Profile (CAP)\n",
        "- Receiver Operating Characteristic (ROC)\n",
        "\n",
        "Количественные меры:\n",
        "\n",
        "- Area Under Curve (AUC)\n",
        "- Accuracy Ratio (AR or Gini coefficient)"
      ],
      "metadata": {
        "id": "dGAiR3VyWwOk"
      }
    },
    {
      "cell_type": "code",
      "source": [
        "def cap_roc_data(data):\n",
        "  '''\n",
        "  data.N - количество заемщиков в каждой категории на начало периода в порядке улучшения рейтинга\n",
        "  data.D - количество дефолтов в каждой категории на конец периода в порядке улучшения рейтинга\n",
        "  data.S - количество \"выживших\" в каждой категории на конец периода в порядке улучшения рейтинга\n",
        "\n",
        "  ppr - Population Positive Rate (доля рейтингов ниже определенного уровня или значение функции распределения заемщиков относительно рейтинговой шкалы F(N))\n",
        "  tpr - True Positive Rate (доля дефолтеров, попавших в рейтинги ниже определенного уровня, или значение функции распределения дефолтеров относительно рейтинговой шкалы F(D))\n",
        "  tpr - False Positive Rate (доля \"выживших\", попавших в рейтинги ниже определенного уровня, или значение функции распределения выживших относительно рейтинговой шкалы F(S))\n",
        "  '''\n",
        "  data = data[::-1]\n",
        "  N, D, S = np.insert(data.N.values, 0, 0), np.insert(data.D.values, 0, 0), np.insert(data.S.values, 0, 0)\n",
        "  ppr, tpr, fpr = N.cumsum()/N.sum(), D.cumsum()/D.sum(), S.cumsum()/S.sum() # F(N), F(D), F(S)\n",
        "  return ppr, tpr, fpr"
      ],
      "metadata": {
        "id": "uwRJ90rDatXj"
      },
      "execution_count": null,
      "outputs": []
    },
    {
      "cell_type": "code",
      "source": [
        "# Обработаем данные для построения\n",
        "display(data)\n",
        "emp_ppr, emp_tpr, emp_fpr = cap_roc_data(data)\n",
        "\n",
        "data_thr = pd.DataFrame({\n",
        "    'N': data.N.values,\n",
        "    'D': data.N.values*pds,\n",
        "    'S': data.N.values*(1 - pds)\n",
        "})\n",
        "thr_ppr, thr_tpr, thr_fpr = cap_roc_data(data_thr)"
      ],
      "metadata": {
        "colab": {
          "base_uri": "https://localhost:8080/",
          "height": 300
        },
        "id": "DCIhXwX3dTQ5",
        "outputId": "010cbec6-eae7-4eb3-a46a-5de60b3399cc"
      },
      "execution_count": null,
      "outputs": [
        {
          "output_type": "display_data",
          "data": {
            "text/plain": [
              "     N   D   S\n",
              "R1  10   0  10\n",
              "R2  20   0  20\n",
              "R3  30   0  30\n",
              "R4  40   1  39\n",
              "R5  50   4  46\n",
              "R6  40   4  36\n",
              "R7  30   8  22\n",
              "R8  20  12   8"
            ],
            "text/html": [
              "\n",
              "  <div id=\"df-d4020b94-3893-460a-b328-65279f43da01\">\n",
              "    <div class=\"colab-df-container\">\n",
              "      <div>\n",
              "<style scoped>\n",
              "    .dataframe tbody tr th:only-of-type {\n",
              "        vertical-align: middle;\n",
              "    }\n",
              "\n",
              "    .dataframe tbody tr th {\n",
              "        vertical-align: top;\n",
              "    }\n",
              "\n",
              "    .dataframe thead th {\n",
              "        text-align: right;\n",
              "    }\n",
              "</style>\n",
              "<table border=\"1\" class=\"dataframe\">\n",
              "  <thead>\n",
              "    <tr style=\"text-align: right;\">\n",
              "      <th></th>\n",
              "      <th>N</th>\n",
              "      <th>D</th>\n",
              "      <th>S</th>\n",
              "    </tr>\n",
              "  </thead>\n",
              "  <tbody>\n",
              "    <tr>\n",
              "      <th>R1</th>\n",
              "      <td>10</td>\n",
              "      <td>0</td>\n",
              "      <td>10</td>\n",
              "    </tr>\n",
              "    <tr>\n",
              "      <th>R2</th>\n",
              "      <td>20</td>\n",
              "      <td>0</td>\n",
              "      <td>20</td>\n",
              "    </tr>\n",
              "    <tr>\n",
              "      <th>R3</th>\n",
              "      <td>30</td>\n",
              "      <td>0</td>\n",
              "      <td>30</td>\n",
              "    </tr>\n",
              "    <tr>\n",
              "      <th>R4</th>\n",
              "      <td>40</td>\n",
              "      <td>1</td>\n",
              "      <td>39</td>\n",
              "    </tr>\n",
              "    <tr>\n",
              "      <th>R5</th>\n",
              "      <td>50</td>\n",
              "      <td>4</td>\n",
              "      <td>46</td>\n",
              "    </tr>\n",
              "    <tr>\n",
              "      <th>R6</th>\n",
              "      <td>40</td>\n",
              "      <td>4</td>\n",
              "      <td>36</td>\n",
              "    </tr>\n",
              "    <tr>\n",
              "      <th>R7</th>\n",
              "      <td>30</td>\n",
              "      <td>8</td>\n",
              "      <td>22</td>\n",
              "    </tr>\n",
              "    <tr>\n",
              "      <th>R8</th>\n",
              "      <td>20</td>\n",
              "      <td>12</td>\n",
              "      <td>8</td>\n",
              "    </tr>\n",
              "  </tbody>\n",
              "</table>\n",
              "</div>\n",
              "      <button class=\"colab-df-convert\" onclick=\"convertToInteractive('df-d4020b94-3893-460a-b328-65279f43da01')\"\n",
              "              title=\"Convert this dataframe to an interactive table.\"\n",
              "              style=\"display:none;\">\n",
              "        \n",
              "  <svg xmlns=\"http://www.w3.org/2000/svg\" height=\"24px\"viewBox=\"0 0 24 24\"\n",
              "       width=\"24px\">\n",
              "    <path d=\"M0 0h24v24H0V0z\" fill=\"none\"/>\n",
              "    <path d=\"M18.56 5.44l.94 2.06.94-2.06 2.06-.94-2.06-.94-.94-2.06-.94 2.06-2.06.94zm-11 1L8.5 8.5l.94-2.06 2.06-.94-2.06-.94L8.5 2.5l-.94 2.06-2.06.94zm10 10l.94 2.06.94-2.06 2.06-.94-2.06-.94-.94-2.06-.94 2.06-2.06.94z\"/><path d=\"M17.41 7.96l-1.37-1.37c-.4-.4-.92-.59-1.43-.59-.52 0-1.04.2-1.43.59L10.3 9.45l-7.72 7.72c-.78.78-.78 2.05 0 2.83L4 21.41c.39.39.9.59 1.41.59.51 0 1.02-.2 1.41-.59l7.78-7.78 2.81-2.81c.8-.78.8-2.07 0-2.86zM5.41 20L4 18.59l7.72-7.72 1.47 1.35L5.41 20z\"/>\n",
              "  </svg>\n",
              "      </button>\n",
              "      \n",
              "  <style>\n",
              "    .colab-df-container {\n",
              "      display:flex;\n",
              "      flex-wrap:wrap;\n",
              "      gap: 12px;\n",
              "    }\n",
              "\n",
              "    .colab-df-convert {\n",
              "      background-color: #E8F0FE;\n",
              "      border: none;\n",
              "      border-radius: 50%;\n",
              "      cursor: pointer;\n",
              "      display: none;\n",
              "      fill: #1967D2;\n",
              "      height: 32px;\n",
              "      padding: 0 0 0 0;\n",
              "      width: 32px;\n",
              "    }\n",
              "\n",
              "    .colab-df-convert:hover {\n",
              "      background-color: #E2EBFA;\n",
              "      box-shadow: 0px 1px 2px rgba(60, 64, 67, 0.3), 0px 1px 3px 1px rgba(60, 64, 67, 0.15);\n",
              "      fill: #174EA6;\n",
              "    }\n",
              "\n",
              "    [theme=dark] .colab-df-convert {\n",
              "      background-color: #3B4455;\n",
              "      fill: #D2E3FC;\n",
              "    }\n",
              "\n",
              "    [theme=dark] .colab-df-convert:hover {\n",
              "      background-color: #434B5C;\n",
              "      box-shadow: 0px 1px 3px 1px rgba(0, 0, 0, 0.15);\n",
              "      filter: drop-shadow(0px 1px 2px rgba(0, 0, 0, 0.3));\n",
              "      fill: #FFFFFF;\n",
              "    }\n",
              "  </style>\n",
              "\n",
              "      <script>\n",
              "        const buttonEl =\n",
              "          document.querySelector('#df-d4020b94-3893-460a-b328-65279f43da01 button.colab-df-convert');\n",
              "        buttonEl.style.display =\n",
              "          google.colab.kernel.accessAllowed ? 'block' : 'none';\n",
              "\n",
              "        async function convertToInteractive(key) {\n",
              "          const element = document.querySelector('#df-d4020b94-3893-460a-b328-65279f43da01');\n",
              "          const dataTable =\n",
              "            await google.colab.kernel.invokeFunction('convertToInteractive',\n",
              "                                                     [key], {});\n",
              "          if (!dataTable) return;\n",
              "\n",
              "          const docLinkHtml = 'Like what you see? Visit the ' +\n",
              "            '<a target=\"_blank\" href=https://colab.research.google.com/notebooks/data_table.ipynb>data table notebook</a>'\n",
              "            + ' to learn more about interactive tables.';\n",
              "          element.innerHTML = '';\n",
              "          dataTable['output_type'] = 'display_data';\n",
              "          await google.colab.output.renderOutput(dataTable, element);\n",
              "          const docLink = document.createElement('div');\n",
              "          docLink.innerHTML = docLinkHtml;\n",
              "          element.appendChild(docLink);\n",
              "        }\n",
              "      </script>\n",
              "    </div>\n",
              "  </div>\n",
              "  "
            ]
          },
          "metadata": {}
        }
      ]
    },
    {
      "cell_type": "code",
      "metadata": {
        "colab": {
          "base_uri": "https://localhost:8080/",
          "height": 313
        },
        "id": "m7G5RNdHOZ8X",
        "outputId": "67c1cd56-c5b9-4f0c-c01c-acd69355a6e0"
      },
      "source": [
        "# Построим CAP- кривую (эмпирическую и теоретическию):\n",
        "plt.title('CAP - curve')\n",
        "plt.grid()\n",
        "plt.plot(emp_ppr, emp_tpr, '--*b', label = 'EmpCAP')\n",
        "plt.plot(thr_ppr, thr_tpr, '--*m', label = 'ThrCAP')\n",
        "plt.plot([0, 1], [0, 1], '--*r', label = 'RandomCAP')\n",
        "plt.plot([0, data.D.sum()/data.N.sum() ,1], [0, 1, 1], '--*g',label = 'PerfectCAP')\n",
        "plt.xlim([0,1.05]), plt.xlabel('PPR'), plt.ylabel('TPR')\n",
        "plt.ylim([0,1.05])\n",
        "plt.legend()"
      ],
      "execution_count": null,
      "outputs": [
        {
          "output_type": "execute_result",
          "data": {
            "text/plain": [
              "<matplotlib.legend.Legend at 0x7f4042dac750>"
            ]
          },
          "metadata": {},
          "execution_count": 6
        },
        {
          "output_type": "display_data",
          "data": {
            "text/plain": [
              "<Figure size 432x288 with 1 Axes>"
            ],
            "image/png": "[encoded data removed]"
          },
          "metadata": {
            "needs_background": "light"
          }
        }
      ]
    },
    {
      "cell_type": "code",
      "source": [
        "# Построим ROC- кривую (эмпирическую и теоретическию):\n",
        "plt.title('ROC - curve')\n",
        "plt.grid()\n",
        "plt.plot(emp_fpr, emp_tpr, '--*b', label = 'EmpROC')\n",
        "plt.plot(thr_fpr, thr_tpr, '--*m', label = 'ThrROC')\n",
        "plt.plot([0, 1], [0, 1], '--*r', label = 'RandomROC')\n",
        "plt.plot([0, 0 ,1], [0, 1, 1], '--*g',label = 'PerfectROC')\n",
        "plt.xlim([0,1.05]), plt.xlabel('FPR'), plt.ylabel('TPR')\n",
        "plt.ylim([0,1.05])\n",
        "plt.legend()"
      ],
      "metadata": {
        "colab": {
          "base_uri": "https://localhost:8080/",
          "height": 313
        },
        "id": "-ePX0rQmdWOE",
        "outputId": "19a0da11-17d5-4108-e9ac-df034627039d"
      },
      "execution_count": null,
      "outputs": [
        {
          "output_type": "execute_result",
          "data": {
            "text/plain": [
              "<matplotlib.legend.Legend at 0x7f4042cd0f90>"
            ]
          },
          "metadata": {},
          "execution_count": 7
        },
        {
          "output_type": "display_data",
          "data": {
            "text/plain": [
              "<Figure size 432x288 with 1 Axes>"
            ],
            "image/png": "[encoded data removed]"
          },
          "metadata": {
            "needs_background": "light"
          }
        }
      ]
    },
    {
      "cell_type": "markdown",
      "metadata": {
        "id": "XjZiJbD5VIZh"
      },
      "source": [
        "Разделяющую способность можно рейтинговой модели можно оценить с помощью показателей AUC (area under curve) и AR (accuracy ratio, Gini).\n",
        "\n",
        "Для CAP-кривой:\n",
        "\n",
        "$$AUC_{CAP} = 0.5\\sum\\limits_{i=0,..,k-1}(TPR_{i+1} + TPR_i)(PPR_{i+1} -PPR_i)$$\n",
        "$$DR = \\frac{\\sum_i{D_i}}{\\sum_i{N_i}}$$\n",
        "$$ AR_{CAP} = \\frac{AUC_{CAP} - 0.5}{AUC_{PerfectCAP} -0.5} =  \\frac{AUC - 0.5}{0.5(1- DR)} = \\frac{2AUC_{CAP} - 1}{1- DR}$$\n",
        "\n",
        "Для ROC-кривой:\n",
        "\n",
        "$$AUC_{ROC}= 0.5\\sum\\limits_{i=0,..,k-1}(TPR_{i+1} + TPR_i)(FPR_{i+1} -FPR_i)$$\n",
        "$$ AR_{ROC} = \\frac{AUC_{ROC} - 0.5}{AUC_{PerfectROC} -0.5} = 2AUC_{ROC} - 1$$"
      ]
    },
    {
      "cell_type": "code",
      "metadata": {
        "colab": {
          "base_uri": "https://localhost:8080/"
        },
        "id": "9_oyP9zlVKiZ",
        "outputId": "9e1fd903-c004-43da-9e5e-7ffb6099bdcd"
      },
      "source": [
        "# Вычислим AUC и AR (Gini) по CAP\n",
        "emp_dr, thr_dr  =  D.sum()/N.sum(), (N*pds).sum()/N.sum()\n",
        "\n",
        "emp_auc, thr_auc = 0.5 * (emp_tpr[1:] + emp_tpr[:-1])@(emp_ppr[1:] - emp_ppr[:-1]), 0.5 * (thr_tpr[1:] + thr_tpr[:-1])@(thr_ppr[1:] - thr_ppr[:-1])\n",
        "emp_ar, thr_ar = (2*emp_auc - 1)/(1 - D.sum()/N.sum()), (2*thr_auc - 1)/(1 - (N*pds).sum()/N.sum())\n",
        "\n",
        "print( 'Эмпирический DR = {:.2%},  эмпирический AUC = {:.3f},  эмпирический AR = {:.2%}\\n'.format(emp_dr, emp_auc, emp_ar))\n",
        "print('Теоретический DR = {:.2%}, теоретический AUC = {:.3f}, теоретический AR = {:.2%}'.format(thr_dr, thr_auc, thr_ar))\n"
      ],
      "execution_count": null,
      "outputs": [
        {
          "output_type": "stream",
          "name": "stdout",
          "text": [
            "Эмпирический DR = 12.08%,  эмпирический AUC = 0.813,  эмпирический AR = 71.25%\n",
            "\n",
            "Теоретический DR = 14.79%, теоретический AUC = 0.766, теоретический AR = 62.37%\n"
          ]
        }
      ]
    },
    {
      "cell_type": "code",
      "source": [
        "# Вычислим AUC и AR (Gini) по ROC\n",
        "emp_auc, thr_auc = 0.5 * (emp_tpr[1:] + emp_tpr[:-1])@(emp_fpr[1:] - emp_fpr[:-1]), 0.5 * (thr_tpr[1:] + thr_tpr[:-1])@(thr_fpr[1:] - thr_fpr[:-1])\n",
        "emp_ar, thr_ar = (2*emp_auc - 1), (2*thr_auc - 1)\n",
        "\n",
        "print( 'Эмпирический AUC = {:.3f},  эмпирический AR = {:.2%}\\n'.format(emp_auc, emp_ar))\n",
        "print('Теоретический AUC = {:.3f}, теоретический AR = {:.2%}'.format(thr_auc, thr_ar))\n"
      ],
      "metadata": {
        "colab": {
          "base_uri": "https://localhost:8080/"
        },
        "id": "o_pUu8UhgGWi",
        "outputId": "c1b48669-7eaf-4eb1-fc00-c6c484121a6b"
      },
      "execution_count": null,
      "outputs": [
        {
          "output_type": "stream",
          "name": "stdout",
          "text": [
            "Эмпирический AUC = 0.856,  эмпирический AR = 71.25%\n",
            "\n",
            "Теоретический AUC = 0.812, теоретический AR = 62.37%\n"
          ]
        }
      ]
    },
    {
      "cell_type": "code",
      "source": [],
      "metadata": {
        "id": "mIsiBqDmNPSu"
      },
      "execution_count": null,
      "outputs": []
    },
    {
      "cell_type": "markdown",
      "source": [
        "## **Практическое задание**"
      ],
      "metadata": {
        "id": "ahc3GGrRcz1H"
      }
    },
    {
      "cell_type": "markdown",
      "source": [
        "Аналитик исследует качество рейтинговой системы с помощью статистики за два года, представленной в следующей таблице. Для этого он строит ROC (CAP)-кривые и метрики разделяющей способности рейтинговой системы для различных периодов и горизонта риска дефолта.\n",
        "\n",
        "![image.png](data:image/png;base64,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)\n",
        "\n",
        "Вопрос 1: Какой из следующих графиков соответствует CAP кривым, построенным для первого года наблюдений (1st_y_CAP) и для всего ДВУХЛЕТНЕГО периода наблюдений (2_ys_CAP)."
      ],
      "metadata": {
        "id": "xQaiG3C3NQhp"
      }
    },
    {
      "cell_type": "code",
      "source": [
        "k = 8 # количество рейтинговых категорий, исключая дефолт\n",
        "\n",
        "# Зададим рейтинговую шкалу\n",
        "grades = ['R{}'.format(i+1) for i in range(k)]\n",
        "\n",
        "\n",
        "# Рассмотрим распределение заемщиков по рейтинговым категориям\n",
        "N  = np.array([45, 52, 75, 100, 120, 98, 70, 20])\n",
        "S1  = np.array([44, 52, 74, 93, 108, 80, 47, 8])\n",
        "S2  = np.array([43, 50, 69, 86, 90, 66, 37, 2])\n",
        "# Сгенерируем дефолты\n",
        "\n",
        "D1 = N - S1\n",
        "D2 = N - S2\n",
        "DD = D2 - D1\n",
        "\n",
        "data_new = pd.DataFrame({\n",
        "                     'N': N,\n",
        "                     'D1': D1,\n",
        "                     'D2': D2,\n",
        "                     'S1': S1,\n",
        "                     'S2': S2,\n",
        "                     'DD': DD\n",
        "                          }, index = grades)\n",
        "display(data_new)\n",
        "\n",
        "# Вспомогательный код для подписей к осям\n",
        "x_1 = [i-0.25 for i in range(8)]\n",
        "x_2 = [i+0.25 for i in range(8)]\n",
        "\n",
        "# Распределение исходных наблюдения против распределения наблюдений за дефолтерам\n",
        "plt.subplot(1, 2, 1)\n",
        "plt.bar(x_1, (N/N.sum())[::-1],width=0.5, label = 'Rated entities')\n",
        "plt.bar(x_2, (D2/D2.sum())[::-1], width=0.5, label = 'Defaults_2')\n",
        "plt.title(r'F(N(t)) vs F(D(t+h))')\n",
        "plt.xticks(range(8), grades[-1::-1]), plt.grid(), plt.legend()\n",
        "plt.show()\n",
        "\n",
        "# Распределение исходных наблюдения против распределения наблюдений за дефолтерам\n",
        "plt.subplot(1, 2, 1)\n",
        "plt.bar(x_1, (N/N.sum())[::-1],width=0.5, label = 'Rated entities')\n",
        "plt.bar(x_2, (D2/D2.sum())[::-1], width=0.5, label = 'Defaults_2')\n",
        "plt.title(r'F(N(t)) vs F(D(t+h))')\n",
        "plt.xticks(range(8), grades[-1::-1]), plt.grid(), plt.legend()\n",
        "plt.show()\n",
        "\n",
        "# Распределение добросовестных заемщиков против распределения дефолтеров\n",
        "plt.subplot(1, 2, 2)\n",
        "plt.bar(x_1, (S1/S1.sum())[::-1],width=0.5, label = 'Survivals_1')\n",
        "plt.bar(x_2, (D1/D1.sum())[::-1],width=0.5, label = 'Defaults_1')\n",
        "plt.title(r'$F (S(t+h))$ vs $F( D(t+h))$')\n",
        "plt.xticks(range(8), grades[-1::-1]), plt.grid(), plt.legend()\n",
        "plt.show()\n",
        "\n",
        "# Распределение добросовестных заемщиков против распределения дефолтеров\n",
        "plt.subplot(1, 2, 2)\n",
        "plt.bar(x_1, (S2/S2.sum())[::-1],width=0.5, label = 'Survivals_2')\n",
        "plt.bar(x_2, (D2/D2.sum())[::-1],width=0.5, label = 'Defaults_2')\n",
        "plt.title(r'$F (S(t+h))$ vs $F( D(t+h))$')\n",
        "plt.xticks(range(8), grades[-1::-1]), plt.grid(), plt.legend()\n",
        "plt.show()\n"
      ],
      "metadata": {
        "colab": {
          "base_uri": "https://localhost:8080/",
          "height": 1000
        },
        "id": "fSWACB5ONhIZ",
        "outputId": "cf1dad46-76b1-490d-fbfa-cf50e1404aa5"
      },
      "execution_count": null,
      "outputs": [
        {
          "output_type": "display_data",
          "data": {
            "text/plain": [
              "      N  D1  D2   S1  S2\n",
              "R1   45   1   2   44  43\n",
              "R2   52   0   2   52  50\n",
              "R3   75   1   6   74  69\n",
              "R4  100   7  14   93  86\n",
              "R5  120  12  30  108  90\n",
              "R6   98  18  32   80  66\n",
              "R7   70  23  33   47  37\n",
              "R8   20  12  18    8   2"
            ],
            "text/html": [
              "\n",
              "  <div id=\"df-9e6d2c55-d197-4432-8aa0-e3cbbd405cba\">\n",
              "    <div class=\"colab-df-container\">\n",
              "      <div>\n",
              "<style scoped>\n",
              "    .dataframe tbody tr th:only-of-type {\n",
              "        vertical-align: middle;\n",
              "    }\n",
              "\n",
              "    .dataframe tbody tr th {\n",
              "        vertical-align: top;\n",
              "    }\n",
              "\n",
              "    .dataframe thead th {\n",
              "        text-align: right;\n",
              "    }\n",
              "</style>\n",
              "<table border=\"1\" class=\"dataframe\">\n",
              "  <thead>\n",
              "    <tr style=\"text-align: right;\">\n",
              "      <th></th>\n",
              "      <th>N</th>\n",
              "      <th>D1</th>\n",
              "      <th>D2</th>\n",
              "      <th>S1</th>\n",
              "      <th>S2</th>\n",
              "    </tr>\n",
              "  </thead>\n",
              "  <tbody>\n",
              "    <tr>\n",
              "      <th>R1</th>\n",
              "      <td>45</td>\n",
              "      <td>1</td>\n",
              "      <td>2</td>\n",
              "      <td>44</td>\n",
              "      <td>43</td>\n",
              "    </tr>\n",
              "    <tr>\n",
              "      <th>R2</th>\n",
              "      <td>52</td>\n",
              "      <td>0</td>\n",
              "      <td>2</td>\n",
              "      <td>52</td>\n",
              "      <td>50</td>\n",
              "    </tr>\n",
              "    <tr>\n",
              "      <th>R3</th>\n",
              "      <td>75</td>\n",
              "      <td>1</td>\n",
              "      <td>6</td>\n",
              "      <td>74</td>\n",
              "      <td>69</td>\n",
              "    </tr>\n",
              "    <tr>\n",
              "      <th>R4</th>\n",
              "      <td>100</td>\n",
              "      <td>7</td>\n",
              "      <td>14</td>\n",
              "      <td>93</td>\n",
              "      <td>86</td>\n",
              "    </tr>\n",
              "    <tr>\n",
              "      <th>R5</th>\n",
              "      <td>120</td>\n",
              "      <td>12</td>\n",
              "      <td>30</td>\n",
              "      <td>108</td>\n",
              "      <td>90</td>\n",
              "    </tr>\n",
              "    <tr>\n",
              "      <th>R6</th>\n",
              "      <td>98</td>\n",
              "      <td>18</td>\n",
              "      <td>32</td>\n",
              "      <td>80</td>\n",
              "      <td>66</td>\n",
              "    </tr>\n",
              "    <tr>\n",
              "      <th>R7</th>\n",
              "      <td>70</td>\n",
              "      <td>23</td>\n",
              "      <td>33</td>\n",
              "      <td>47</td>\n",
              "      <td>37</td>\n",
              "    </tr>\n",
              "    <tr>\n",
              "      <th>R8</th>\n",
              "      <td>20</td>\n",
              "      <td>12</td>\n",
              "      <td>18</td>\n",
              "      <td>8</td>\n",
              "      <td>2</td>\n",
              "    </tr>\n",
              "  </tbody>\n",
              "</table>\n",
              "</div>\n",
              "      <button class=\"colab-df-convert\" onclick=\"convertToInteractive('df-9e6d2c55-d197-4432-8aa0-e3cbbd405cba')\"\n",
              "              title=\"Convert this dataframe to an interactive table.\"\n",
              "              style=\"display:none;\">\n",
              "        \n",
              "  <svg xmlns=\"http://www.w3.org/2000/svg\" height=\"24px\"viewBox=\"0 0 24 24\"\n",
              "       width=\"24px\">\n",
              "    <path d=\"M0 0h24v24H0V0z\" fill=\"none\"/>\n",
              "    <path d=\"M18.56 5.44l.94 2.06.94-2.06 2.06-.94-2.06-.94-.94-2.06-.94 2.06-2.06.94zm-11 1L8.5 8.5l.94-2.06 2.06-.94-2.06-.94L8.5 2.5l-.94 2.06-2.06.94zm10 10l.94 2.06.94-2.06 2.06-.94-2.06-.94-.94-2.06-.94 2.06-2.06.94z\"/><path d=\"M17.41 7.96l-1.37-1.37c-.4-.4-.92-.59-1.43-.59-.52 0-1.04.2-1.43.59L10.3 9.45l-7.72 7.72c-.78.78-.78 2.05 0 2.83L4 21.41c.39.39.9.59 1.41.59.51 0 1.02-.2 1.41-.59l7.78-7.78 2.81-2.81c.8-.78.8-2.07 0-2.86zM5.41 20L4 18.59l7.72-7.72 1.47 1.35L5.41 20z\"/>\n",
              "  </svg>\n",
              "      </button>\n",
              "      \n",
              "  <style>\n",
              "    .colab-df-container {\n",
              "      display:flex;\n",
              "      flex-wrap:wrap;\n",
              "      gap: 12px;\n",
              "    }\n",
              "\n",
              "    .colab-df-convert {\n",
              "      background-color: #E8F0FE;\n",
              "      border: none;\n",
              "      border-radius: 50%;\n",
              "      cursor: pointer;\n",
              "      display: none;\n",
              "      fill: #1967D2;\n",
              "      height: 32px;\n",
              "      padding: 0 0 0 0;\n",
              "      width: 32px;\n",
              "    }\n",
              "\n",
              "    .colab-df-convert:hover {\n",
              "      background-color: #E2EBFA;\n",
              "      box-shadow: 0px 1px 2px rgba(60, 64, 67, 0.3), 0px 1px 3px 1px rgba(60, 64, 67, 0.15);\n",
              "      fill: #174EA6;\n",
              "    }\n",
              "\n",
              "    [theme=dark] .colab-df-convert {\n",
              "      background-color: #3B4455;\n",
              "      fill: #D2E3FC;\n",
              "    }\n",
              "\n",
              "    [theme=dark] .colab-df-convert:hover {\n",
              "      background-color: #434B5C;\n",
              "      box-shadow: 0px 1px 3px 1px rgba(0, 0, 0, 0.15);\n",
              "      filter: drop-shadow(0px 1px 2px rgba(0, 0, 0, 0.3));\n",
              "      fill: #FFFFFF;\n",
              "    }\n",
              "  </style>\n",
              "\n",
              "      <script>\n",
              "        const buttonEl =\n",
              "          document.querySelector('#df-9e6d2c55-d197-4432-8aa0-e3cbbd405cba button.colab-df-convert');\n",
              "        buttonEl.style.display =\n",
              "          google.colab.kernel.accessAllowed ? 'block' : 'none';\n",
              "\n",
              "        async function convertToInteractive(key) {\n",
              "          const element = document.querySelector('#df-9e6d2c55-d197-4432-8aa0-e3cbbd405cba');\n",
              "          const dataTable =\n",
              "            await google.colab.kernel.invokeFunction('convertToInteractive',\n",
              "                                                     [key], {});\n",
              "          if (!dataTable) return;\n",
              "\n",
              "          const docLinkHtml = 'Like what you see? Visit the ' +\n",
              "            '<a target=\"_blank\" href=https://colab.research.google.com/notebooks/data_table.ipynb>data table notebook</a>'\n",
              "            + ' to learn more about interactive tables.';\n",
              "          element.innerHTML = '';\n",
              "          dataTable['output_type'] = 'display_data';\n",
              "          await google.colab.output.renderOutput(dataTable, element);\n",
              "          const docLink = document.createElement('div');\n",
              "          docLink.innerHTML = docLinkHtml;\n",
              "          element.appendChild(docLink);\n",
              "        }\n",
              "      </script>\n",
              "    </div>\n",
              "  </div>\n",
              "  "
            ]
          },
          "metadata": {}
        },
        {
          "output_type": "display_data",
          "data": {
            "text/plain": [
              "<Figure size 432x288 with 1 Axes>"
            ],
            "image/png": "[encoded data removed]"
          },
          "metadata": {
            "needs_background": "light"
          }
        },
        {
          "output_type": "display_data",
          "data": {
            "text/plain": [
              "<Figure size 432x288 with 1 Axes>"
            ],
            "image/png": "[encoded data removed]"
          },
          "metadata": {
            "needs_background": "light"
          }
        },
        {
          "output_type": "display_data",
          "data": {
            "text/plain": [
              "<Figure size 432x288 with 1 Axes>"
            ],
            "image/png": "[encoded data removed]"
          },
          "metadata": {
            "needs_background": "light"
          }
        },
        {
          "output_type": "display_data",
          "data": {
            "text/plain": [
              "<Figure size 432x288 with 1 Axes>"
            ],
            "image/png": "[encoded data removed]"
          },
          "metadata": {
            "needs_background": "light"
          }
        }
      ]
    },
    {
      "cell_type": "code",
      "source": [
        "def cap_roc_data_1(data):\n",
        "  '''\n",
        "  data.N - количество заемщиков в каждой категории на начало периода в порядке улучшения рейтинга\n",
        "  data.D - количество дефолтов в каждой категории на конец периода в порядке улучшения рейтинга\n",
        "  data.S - количество \"выживших\" в каждой категории на конец периода в порядке улучшения рейтинга\n",
        "\n",
        "  ppr - Population Positive Rate (доля рейтингов ниже определенного уровня или значение функции распределения заемщиков относительно рейтинговой шкалы F(N))\n",
        "  tpr - True Positive Rate (доля дефолтеров, попавших в рейтинги ниже определенного уровня, или значение функции распределения дефолтеров относительно рейтинговой шкалы F(D))\n",
        "  tpr - False Positive Rate (доля \"выживших\", попавших в рейтинги ниже определенного уровня, или значение функции распределения выживших относительно рейтинговой шкалы F(S))\n",
        "  '''\n",
        "  data = data_new[::-1]\n",
        "  N, D, S = np.insert(data.N.values, 0, 0), np.insert(data.D1.values, 0, 0), np.insert(data.S1.values, 0, 0)\n",
        "  ppr, tpr, fpr = N.cumsum()/N.sum(), D.cumsum()/D.sum(), S.cumsum()/S.sum() # F(N), F(D), F(S)\n",
        "  return ppr, tpr, fpr"
      ],
      "metadata": {
        "id": "DHx9sQkGQtLD"
      },
      "execution_count": null,
      "outputs": []
    },
    {
      "cell_type": "code",
      "source": [
        "# Обработаем данные для построения\n",
        "display(data_new)\n",
        "emp_ppr_1, emp_tpr_1, emp_fpr_1 = cap_roc_data_1(data)"
      ],
      "metadata": {
        "colab": {
          "base_uri": "https://localhost:8080/",
          "height": 300
        },
        "id": "jGbEaIh3Q5Z2",
        "outputId": "1b1e326b-c574-420a-bf27-4ef8c2410f63"
      },
      "execution_count": null,
      "outputs": [
        {
          "output_type": "display_data",
          "data": {
            "text/plain": [
              "      N  D1  D2   S1  S2\n",
              "R1   45   1   2   44  43\n",
              "R2   52   0   2   52  50\n",
              "R3   75   1   6   74  69\n",
              "R4  100   7  14   93  86\n",
              "R5  120  12  30  108  90\n",
              "R6   98  18  32   80  66\n",
              "R7   70  23  33   47  37\n",
              "R8   20  12  18    8   2"
            ],
            "text/html": [
              "\n",
              "  <div id=\"df-ba55748a-4e0b-4c5a-bb28-b7db462815cb\">\n",
              "    <div class=\"colab-df-container\">\n",
              "      <div>\n",
              "<style scoped>\n",
              "    .dataframe tbody tr th:only-of-type {\n",
              "        vertical-align: middle;\n",
              "    }\n",
              "\n",
              "    .dataframe tbody tr th {\n",
              "        vertical-align: top;\n",
              "    }\n",
              "\n",
              "    .dataframe thead th {\n",
              "        text-align: right;\n",
              "    }\n",
              "</style>\n",
              "<table border=\"1\" class=\"dataframe\">\n",
              "  <thead>\n",
              "    <tr style=\"text-align: right;\">\n",
              "      <th></th>\n",
              "      <th>N</th>\n",
              "      <th>D1</th>\n",
              "      <th>D2</th>\n",
              "      <th>S1</th>\n",
              "      <th>S2</th>\n",
              "    </tr>\n",
              "  </thead>\n",
              "  <tbody>\n",
              "    <tr>\n",
              "      <th>R1</th>\n",
              "      <td>45</td>\n",
              "      <td>1</td>\n",
              "      <td>2</td>\n",
              "      <td>44</td>\n",
              "      <td>43</td>\n",
              "    </tr>\n",
              "    <tr>\n",
              "      <th>R2</th>\n",
              "      <td>52</td>\n",
              "      <td>0</td>\n",
              "      <td>2</td>\n",
              "      <td>52</td>\n",
              "      <td>50</td>\n",
              "    </tr>\n",
              "    <tr>\n",
              "      <th>R3</th>\n",
              "      <td>75</td>\n",
              "      <td>1</td>\n",
              "      <td>6</td>\n",
              "      <td>74</td>\n",
              "      <td>69</td>\n",
              "    </tr>\n",
              "    <tr>\n",
              "      <th>R4</th>\n",
              "      <td>100</td>\n",
              "      <td>7</td>\n",
              "      <td>14</td>\n",
              "      <td>93</td>\n",
              "      <td>86</td>\n",
              "    </tr>\n",
              "    <tr>\n",
              "      <th>R5</th>\n",
              "      <td>120</td>\n",
              "      <td>12</td>\n",
              "      <td>30</td>\n",
              "      <td>108</td>\n",
              "      <td>90</td>\n",
              "    </tr>\n",
              "    <tr>\n",
              "      <th>R6</th>\n",
              "      <td>98</td>\n",
              "      <td>18</td>\n",
              "      <td>32</td>\n",
              "      <td>80</td>\n",
              "      <td>66</td>\n",
              "    </tr>\n",
              "    <tr>\n",
              "      <th>R7</th>\n",
              "      <td>70</td>\n",
              "      <td>23</td>\n",
              "      <td>33</td>\n",
              "      <td>47</td>\n",
              "      <td>37</td>\n",
              "    </tr>\n",
              "    <tr>\n",
              "      <th>R8</th>\n",
              "      <td>20</td>\n",
              "      <td>12</td>\n",
              "      <td>18</td>\n",
              "      <td>8</td>\n",
              "      <td>2</td>\n",
              "    </tr>\n",
              "  </tbody>\n",
              "</table>\n",
              "</div>\n",
              "      <button class=\"colab-df-convert\" onclick=\"convertToInteractive('df-ba55748a-4e0b-4c5a-bb28-b7db462815cb')\"\n",
              "              title=\"Convert this dataframe to an interactive table.\"\n",
              "              style=\"display:none;\">\n",
              "        \n",
              "  <svg xmlns=\"http://www.w3.org/2000/svg\" height=\"24px\"viewBox=\"0 0 24 24\"\n",
              "       width=\"24px\">\n",
              "    <path d=\"M0 0h24v24H0V0z\" fill=\"none\"/>\n",
              "    <path d=\"M18.56 5.44l.94 2.06.94-2.06 2.06-.94-2.06-.94-.94-2.06-.94 2.06-2.06.94zm-11 1L8.5 8.5l.94-2.06 2.06-.94-2.06-.94L8.5 2.5l-.94 2.06-2.06.94zm10 10l.94 2.06.94-2.06 2.06-.94-2.06-.94-.94-2.06-.94 2.06-2.06.94z\"/><path d=\"M17.41 7.96l-1.37-1.37c-.4-.4-.92-.59-1.43-.59-.52 0-1.04.2-1.43.59L10.3 9.45l-7.72 7.72c-.78.78-.78 2.05 0 2.83L4 21.41c.39.39.9.59 1.41.59.51 0 1.02-.2 1.41-.59l7.78-7.78 2.81-2.81c.8-.78.8-2.07 0-2.86zM5.41 20L4 18.59l7.72-7.72 1.47 1.35L5.41 20z\"/>\n",
              "  </svg>\n",
              "      </button>\n",
              "      \n",
              "  <style>\n",
              "    .colab-df-container {\n",
              "      display:flex;\n",
              "      flex-wrap:wrap;\n",
              "      gap: 12px;\n",
              "    }\n",
              "\n",
              "    .colab-df-convert {\n",
              "      background-color: #E8F0FE;\n",
              "      border: none;\n",
              "      border-radius: 50%;\n",
              "      cursor: pointer;\n",
              "      display: none;\n",
              "      fill: #1967D2;\n",
              "      height: 32px;\n",
              "      padding: 0 0 0 0;\n",
              "      width: 32px;\n",
              "    }\n",
              "\n",
              "    .colab-df-convert:hover {\n",
              "      background-color: #E2EBFA;\n",
              "      box-shadow: 0px 1px 2px rgba(60, 64, 67, 0.3), 0px 1px 3px 1px rgba(60, 64, 67, 0.15);\n",
              "      fill: #174EA6;\n",
              "    }\n",
              "\n",
              "    [theme=dark] .colab-df-convert {\n",
              "      background-color: #3B4455;\n",
              "      fill: #D2E3FC;\n",
              "    }\n",
              "\n",
              "    [theme=dark] .colab-df-convert:hover {\n",
              "      background-color: #434B5C;\n",
              "      box-shadow: 0px 1px 3px 1px rgba(0, 0, 0, 0.15);\n",
              "      filter: drop-shadow(0px 1px 2px rgba(0, 0, 0, 0.3));\n",
              "      fill: #FFFFFF;\n",
              "    }\n",
              "  </style>\n",
              "\n",
              "      <script>\n",
              "        const buttonEl =\n",
              "          document.querySelector('#df-ba55748a-4e0b-4c5a-bb28-b7db462815cb button.colab-df-convert');\n",
              "        buttonEl.style.display =\n",
              "          google.colab.kernel.accessAllowed ? 'block' : 'none';\n",
              "\n",
              "        async function convertToInteractive(key) {\n",
              "          const element = document.querySelector('#df-ba55748a-4e0b-4c5a-bb28-b7db462815cb');\n",
              "          const dataTable =\n",
              "            await google.colab.kernel.invokeFunction('convertToInteractive',\n",
              "                                                     [key], {});\n",
              "          if (!dataTable) return;\n",
              "\n",
              "          const docLinkHtml = 'Like what you see? Visit the ' +\n",
              "            '<a target=\"_blank\" href=https://colab.research.google.com/notebooks/data_table.ipynb>data table notebook</a>'\n",
              "            + ' to learn more about interactive tables.';\n",
              "          element.innerHTML = '';\n",
              "          dataTable['output_type'] = 'display_data';\n",
              "          await google.colab.output.renderOutput(dataTable, element);\n",
              "          const docLink = document.createElement('div');\n",
              "          docLink.innerHTML = docLinkHtml;\n",
              "          element.appendChild(docLink);\n",
              "        }\n",
              "      </script>\n",
              "    </div>\n",
              "  </div>\n",
              "  "
            ]
          },
          "metadata": {}
        }
      ]
    },
    {
      "cell_type": "code",
      "source": [
        "def cap_roc_data_2(data):\n",
        "  '''\n",
        "  data.N - количество заемщиков в каждой категории на начало периода в порядке улучшения рейтинга\n",
        "  data.D - количество дефолтов в каждой категории на конец периода в порядке улучшения рейтинга\n",
        "  data.S - количество \"выживших\" в каждой категории на конец периода в порядке улучшения рейтинга\n",
        "\n",
        "  ppr - Population Positive Rate (доля рейтингов ниже определенного уровня или значение функции распределения заемщиков относительно рейтинговой шкалы F(N))\n",
        "  tpr - True Positive Rate (доля дефолтеров, попавших в рейтинги ниже определенного уровня, или значение функции распределения дефолтеров относительно рейтинговой шкалы F(D))\n",
        "  tpr - False Positive Rate (доля \"выживших\", попавших в рейтинги ниже определенного уровня, или значение функции распределения выживших относительно рейтинговой шкалы F(S))\n",
        "  '''\n",
        "  data = data_new[::-1]\n",
        "  N, D, S = np.insert(data.N.values, 0, 0), np.insert(data.D2.values, 0, 0), np.insert(data.S2.values, 0, 0)\n",
        "  ppr, tpr, fpr = N.cumsum()/N.sum(), D.cumsum()/D.sum(), S.cumsum()/S.sum() # F(N), F(D), F(S)\n",
        "  return ppr, tpr, fpr"
      ],
      "metadata": {
        "id": "0sVD49oeRTvy"
      },
      "execution_count": null,
      "outputs": []
    },
    {
      "cell_type": "code",
      "source": [
        "emp_ppr_2, emp_tpr_2, emp_fpr_2 = cap_roc_data_2(data)"
      ],
      "metadata": {
        "id": "hqeCMXGcRgKk"
      },
      "execution_count": null,
      "outputs": []
    },
    {
      "cell_type": "code",
      "source": [
        "def cap_roc_data_DD(data):\n",
        "  '''\n",
        "  data.N - количество заемщиков в каждой категории на начало периода в порядке улучшения рейтинга\n",
        "  data.D - количество дефолтов в каждой категории на конец периода в порядке улучшения рейтинга\n",
        "  data.S - количество \"выживших\" в каждой категории на конец периода в порядке улучшения рейтинга\n",
        "\n",
        "  ppr - Population Positive Rate (доля рейтингов ниже определенного уровня или значение функции распределения заемщиков относительно рейтинговой шкалы F(N))\n",
        "  tpr - True Positive Rate (доля дефолтеров, попавших в рейтинги ниже определенного уровня, или значение функции распределения дефолтеров относительно рейтинговой шкалы F(D))\n",
        "  tpr - False Positive Rate (доля \"выживших\", попавших в рейтинги ниже определенного уровня, или значение функции распределения выживших относительно рейтинговой шкалы F(S))\n",
        "  '''\n",
        "  data = data_new[::-1]\n",
        "  N, D, S = np.insert(data.N.values, 0, 0), np.insert(data.DD.values, 0, 0), np.insert(data.S2.values, 0, 0)\n",
        "  ppr, tpr, fpr = N.cumsum()/N.sum(), D.cumsum()/D.sum(), S.cumsum()/S.sum() # F(N), F(D), F(S)\n",
        "  return ppr, tpr, fpr"
      ],
      "metadata": {
        "id": "k9QS0Iepk2kT"
      },
      "execution_count": null,
      "outputs": []
    },
    {
      "cell_type": "code",
      "source": [
        "emp_ppr_DD, emp_tpr_DD, emp_fpr_DD = cap_roc_data_DD(data)"
      ],
      "metadata": {
        "id": "uz8D1CESk5n3"
      },
      "execution_count": null,
      "outputs": []
    },
    {
      "cell_type": "code",
      "source": [
        "# Построим CAP- кривую (для t=1, t=2):\n",
        "plt.title('CAP - curve')\n",
        "plt.grid()\n",
        "plt.plot(emp_ppr_1, emp_tpr_1, '--*b', label = 'EmpCAP_1')\n",
        "plt.plot(emp_ppr_2, emp_tpr_2, '--*m', label = 'EmpCAP_2')\n",
        "plt.plot([0, 1], [0, 1], '--*r', label = 'RandomCAP')\n",
        "plt.plot([0, data_new.D1.sum()/data_new.N.sum() ,1], [0, 1, 1], '--*g',label = 'PerfectCAP_1')\n",
        "plt.plot([0, data_new.DD.sum()/data_new.N.sum() ,1], [0, 1, 1], '--*y',label = 'PerfectCAP_2')\n",
        "plt.xlim([0,1.05]), plt.xlabel('PPR'), plt.ylabel('TPR')\n",
        "plt.ylim([0,1.05])\n",
        "plt.legend()"
      ],
      "metadata": {
        "colab": {
          "base_uri": "https://localhost:8080/",
          "height": 313
        },
        "id": "bRM5drgMRvHV",
        "outputId": "4422f7a8-67a9-4d17-ae3b-4c35672b4971"
      },
      "execution_count": null,
      "outputs": [
        {
          "output_type": "execute_result",
          "data": {
            "text/plain": [
              "<matplotlib.legend.Legend at 0x7f036284bcd0>"
            ]
          },
          "metadata": {},
          "execution_count": 43
        },
        {
          "output_type": "display_data",
          "data": {
            "text/plain": [
              "<Figure size 432x288 with 1 Axes>"
            ],
            "image/png": "[encoded data removed]"
          },
          "metadata": {
            "needs_background": "light"
          }
        }
      ]
    },
    {
      "cell_type": "code",
      "source": [
        "# Построим ROC- кривую (эмпирическую и теоретическию):\n",
        "plt.title('ROC - curve')\n",
        "plt.grid()\n",
        "plt.plot(emp_fpr_1, emp_tpr_1, '--*b', label = 'EmpROC_1')\n",
        "plt.plot(emp_fpr_2, emp_tpr_2, '--*m', label = 'EmpROC_2')\n",
        "plt.plot([0, 1], [0, 1], '--*r', label = 'RandomROC')\n",
        "plt.plot([0, 0 ,1], [0, 1, 1], '--*g',label = 'PerfectROC')\n",
        "plt.xlim([0,1.05]), plt.xlabel('FPR'), plt.ylabel('TPR')\n",
        "plt.ylim([0,1.05])\n",
        "plt.legend()"
      ],
      "metadata": {
        "colab": {
          "base_uri": "https://localhost:8080/",
          "height": 313
        },
        "id": "IOk19tIrUie4",
        "outputId": "bacd2b6d-479e-4b8d-d776-2762395b3bec"
      },
      "execution_count": null,
      "outputs": [
        {
          "output_type": "execute_result",
          "data": {
            "text/plain": [
              "<matplotlib.legend.Legend at 0x7f0362ab6d50>"
            ]
          },
          "metadata": {},
          "execution_count": 26
        },
        {
          "output_type": "display_data",
          "data": {
            "text/plain": [
              "<Figure size 432x288 with 1 Axes>"
            ],
            "image/png": "[encoded data removed]"
          },
          "metadata": {
            "needs_background": "light"
          }
        }
      ]
    },
    {
      "cell_type": "markdown",
      "source": [
        "Какие значения AUC соответствуют CAP и ROC кривым для первого года наблюдений.\n",
        "\n",
        "a.\n",
        "AUC_cap = 0.702, AUC_roc = 0.758\n",
        "\n",
        "b.\n",
        "AUC_cap = 0.702, AUC_roc = 0.764\n",
        "\n",
        "c.\n",
        "AUC_cap = 0.796, AUC_roc = 0.701\n",
        "\n",
        "d.\n",
        "AUC_cap = 0.758, AUC_roc = 0.796"
      ],
      "metadata": {
        "id": "qylnz92aNho8"
      }
    },
    {
      "cell_type": "code",
      "source": [
        "# Вычислим AUC и AR (Gini) по ROC 1 year\n",
        "emp_auc_1 = 0.5 * (emp_tpr_1[1:] + emp_tpr_1[:-1])@(emp_fpr_1[1:] - emp_fpr_1[:-1])\n",
        "emp_ar_1= (2*emp_auc_1 - 1)\n",
        "\n",
        "print( 'Эмпирический AUC = {:.3f},  эмпирический AR = {:.2%}\\n'.format(emp_auc_1, emp_ar_1))\n"
      ],
      "metadata": {
        "colab": {
          "base_uri": "https://localhost:8080/"
        },
        "outputId": "4c05f7a1-2c86-4d83-8b84-b1b22564b6f4",
        "id": "NG_lpDRAU9Kg"
      },
      "execution_count": null,
      "outputs": [
        {
          "output_type": "stream",
          "name": "stdout",
          "text": [
            "Эмпирический AUC = 0.796,  эмпирический AR = 59.22%\n",
            "\n"
          ]
        }
      ]
    },
    {
      "cell_type": "code",
      "source": [
        "# Вычислим AUC и AR (Gini) по ROC 2 year\n",
        "emp_auc_2 = 0.5 * (emp_tpr_2[1:] + emp_tpr_2[:-1])@(emp_fpr_2[1:] - emp_fpr_2[:-1])\n",
        "emp_ar_2= (2*emp_auc_2 - 1)\n",
        "\n",
        "print( 'Эмпирический AUC = {:.3f},  эмпирический AR = {:.2%}\\n'.format(emp_auc_2, emp_ar_2))\n"
      ],
      "metadata": {
        "colab": {
          "base_uri": "https://localhost:8080/"
        },
        "outputId": "b16b1079-028b-4efa-e8f4-35be8fb73369",
        "id": "EIUV0aEkVHuk"
      },
      "execution_count": null,
      "outputs": [
        {
          "output_type": "stream",
          "name": "stdout",
          "text": [
            "Эмпирический AUC = 0.764,  эмпирический AR = 52.82%\n",
            "\n"
          ]
        }
      ]
    },
    {
      "cell_type": "markdown",
      "source": [
        "Какие значения AR (или показателя Gini) соответствуют CAP кривым для статистики дефолта ПЕРВОГО года (AR_1st_y) и статистики дефолта ВТОРОГО года наблюдения (AR_2nd_y)?\n",
        "\n",
        "\n",
        "a.\n",
        "AR_1st_y = 51.67%, AR_2nd_y = 35.26%\n",
        "\n",
        "b.\n",
        "AR_1st_y = 59.22%, AR_2nd_y = 40.28%\n",
        "\n",
        "c.\n",
        "AR_1st_y = 51.67%, AR_2nd_y = 40.84%\n",
        "\n",
        "d.\n",
        "AR_1st_y = 59.22%, AR_2nd_y = 46.76%,"
      ],
      "metadata": {
        "id": "eFuJrovTNlZB"
      }
    },
    {
      "cell_type": "code",
      "metadata": {
        "colab": {
          "base_uri": "https://localhost:8080/"
        },
        "outputId": "a5144667-b2df-4a76-907a-886e892dbffd",
        "id": "x0MS36YqU9Ke"
      },
      "source": [
        "# Вычислим AUC и AR (Gini) по CAP 1 year\n",
        "emp_dr_1=  D1.sum()/N.sum()\n",
        "\n",
        "emp_auc_1= 0.5 * (emp_tpr_1[1:] + emp_tpr_1[:-1])@(emp_ppr_1[1:] - emp_ppr_1[:-1])\n",
        "emp_ar_1 = (2*emp_auc_1 - 1)/(1 - D1.sum()/N.sum())\n",
        "\n",
        "print( 'Эмпирический DR = {:.2%},  эмпирический AUC = {:.3f},  эмпирический AR = {:.2%}\\n'.format(emp_dr_1, emp_auc_1, emp_ar_1))\n"
      ],
      "execution_count": null,
      "outputs": [
        {
          "output_type": "stream",
          "name": "stdout",
          "text": [
            "Эмпирический DR = 12.76%,  эмпирический AUC = 0.758,  эмпирический AR = 59.22%\n",
            "\n"
          ]
        }
      ]
    },
    {
      "cell_type": "code",
      "metadata": {
        "colab": {
          "base_uri": "https://localhost:8080/"
        },
        "outputId": "8d2c24da-a6a2-4872-e917-1ab0fadece78",
        "id": "Gcurwl8bVHuj"
      },
      "source": [
        "# Вычислим AUC и AR (Gini) по CAP 2 year\n",
        "emp_dr_DD=  DD.sum()/N.sum()\n",
        "\n",
        "emp_auc_DD= 0.5 * (emp_tpr_DD[1:] + emp_tpr_DD[:-1])@(emp_ppr_DD[1:] - emp_ppr_DD[:-1])\n",
        "emp_ar_DD = (2*emp_auc_DD - 1)/(1 - DD.sum()/N.sum())\n",
        "\n",
        "print( 'Эмпирический DR = {:.2%},  эмпирический AUC = {:.3f},  эмпирический AR = {:.2%}\\n'.format(emp_dr_DD, emp_auc_DD, emp_ar_DD))\n"
      ],
      "execution_count": null,
      "outputs": [
        {
          "output_type": "stream",
          "name": "stdout",
          "text": [
            "Эмпирический DR = 10.86%,  эмпирический AUC = 0.635,  эмпирический AR = 30.34%\n",
            "\n"
          ]
        }
      ]
    },
    {
      "cell_type": "code",
      "source": [],
      "metadata": {
        "id": "YqSgqydmNl3N"
      },
      "execution_count": null,
      "outputs": []
    },
    {
      "cell_type": "markdown",
      "source": [
        "Сравните AR и AUC для ROC и CAP кривых для двухлетнего периода наблюдений.\n",
        "\n",
        "a.\n",
        "AUC_cap = 0.654, AUC_roc = 0.701. AR_cap = 40.34%, AR_roc = 40.34%\n",
        "\n",
        "b.\n",
        "AUC_cap = 0.702, AUC_roc = 0.764. AR_cap = 52.82%, , AR_roc = 52.82%,\n",
        "\n",
        "c.\n",
        "AUC_cap = 0.764, AUC_roc = 0.846. AR_cap = 69.16% , AR_roc = 69.16%\n",
        "\n",
        "d.\n",
        "AUC_cap = 0.702, AUC_roc = 0.846 , AR_cap = 40.34%, AR_roc = 69.16%,"
      ],
      "metadata": {
        "id": "sgk8OLhzNns8"
      }
    },
    {
      "cell_type": "code",
      "source": [],
      "metadata": {
        "id": "ClnwlMdKNoPX"
      },
      "execution_count": null,
      "outputs": []
    }
  ]
}
