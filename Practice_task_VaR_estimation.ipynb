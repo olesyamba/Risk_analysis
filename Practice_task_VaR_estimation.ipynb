{
  "nbformat": 4,
  "nbformat_minor": 0,
  "metadata": {
    "colab": {
      "provenance": [],
      "include_colab_link": true
    },
    "kernelspec": {
      "name": "python3",
      "display_name": "Python 3"
    },
    "language_info": {
      "name": "python"
    }
  },
  "cells": [
    {
      "cell_type": "markdown",
      "metadata": {
        "id": "view-in-github",
        "colab_type": "text"
      },
      "source": [
        "<a href=\"https://colab.research.google.com/github/olesyamba/Risk_analysis/blob/main/Practice_task_VaR_estimation.ipynb\" target=\"_parent\"><img src=\"https://colab.research.google.com/assets/colab-badge.svg\" alt=\"Open In Colab\"/></a>"
      ]
    },
    {
      "cell_type": "markdown",
      "metadata": {
        "id": "fEUPzKa7NHf6"
      },
      "source": [
        "### Условие:\n",
        "\n",
        "Ежемесячные финансовые результаты компании за последние 3 года даны ниже (выполните код). Первое значение соответствует самому старому наблюдению, последнее -- самому новому.\n"
      ]
    },
    {
      "cell_type": "code",
      "metadata": {
        "colab": {
          "base_uri": "https://localhost:8080/"
        },
        "id": "VxmzzY3gNT0z",
        "outputId": "f7b756bd-b562-4cdf-bdf0-cb2a65542283"
      },
      "source": [
        "import numpy as np\n",
        "np.random.seed(42)\n",
        "res = np.random.randint(-7, 7, size=3 * 12) + np.cumsum(np.random.randint(-1, 1, size=3 * 12))\n",
        "assert res[0] == -2, \"Something's wrong! Please, contact the teacher!\"\n",
        "print(res)"
      ],
      "execution_count": null,
      "outputs": [
        {
          "output_type": "stream",
          "name": "stdout",
          "text": [
            "[ -2  -6   2  -1  -4   1  -7  -5  -2 -10  -6  -2  -3  -6 -10 -11  -8  -8\n",
            " -13 -11 -13 -17 -12  -9  -8 -17 -22 -12 -19 -24 -13 -15 -19 -12 -14 -17]\n"
          ]
        }
      ]
    },
    {
      "cell_type": "markdown",
      "metadata": {
        "id": "UGd__sf171vl"
      },
      "source": [
        "Задача 1\n",
        "\n",
        "Оцените VaR на уровне 95% на следующий месяц с использованием исторического метода, предполагая стационарность размеров убытков"
      ]
    },
    {
      "cell_type": "code",
      "metadata": {
        "colab": {
          "base_uri": "https://localhost:8080/"
        },
        "id": "CruVSCqPzwQr",
        "outputId": "c5d204ad-3135-419f-8869-cb1fcbaa835f"
      },
      "source": [
        "import pandas as pd\n",
        "\n",
        "def calculate_VaR_HS(returns, level):\n",
        "    return -returns.quantile(1 - level, interpolation='higher')\n",
        "\n",
        "level = .95\n",
        "\n",
        "calculate_VaR_HS(pd.Series(res), level)"
      ],
      "execution_count": null,
      "outputs": [
        {
          "output_type": "execute_result",
          "data": {
            "text/plain": [
              "19"
            ]
          },
          "metadata": {},
          "execution_count": 16
        }
      ]
    },
    {
      "cell_type": "code",
      "source": [
        "pd.Series(res).hist()"
      ],
      "metadata": {
        "colab": {
          "base_uri": "https://localhost:8080/",
          "height": 283
        },
        "id": "-hGa0lAJ4mCe",
        "outputId": "5cce9ca9-c4b0-49e7-a97a-c257ff16c183"
      },
      "execution_count": null,
      "outputs": [
        {
          "output_type": "execute_result",
          "data": {
            "text/plain": [
              "<matplotlib.axes._subplots.AxesSubplot at 0x7fef0e22efd0>"
            ]
          },
          "metadata": {},
          "execution_count": 17
        },
        {
          "output_type": "display_data",
          "data": {
            "text/plain": [
              "<Figure size 432x288 with 1 Axes>"
            ],
            "image/png": "[encoded data removed]"
          },
          "metadata": {
            "needs_background": "light"
          }
        }
      ]
    },
    {
      "cell_type": "markdown",
      "metadata": {
        "id": "hVImlZRG0_T-"
      },
      "source": [
        "Задачи 2 и 3\n",
        "\n",
        "Параметрический метод с обобщённым распределением Парето, предполагая стационарность размеров убытков"
      ]
    },
    {
      "cell_type": "code",
      "metadata": {
        "colab": {
          "base_uri": "https://localhost:8080/"
        },
        "id": "LgQAxLHO2KLc",
        "outputId": "4a8d30c3-c89b-4a54-ce2d-f8bcafd3b501"
      },
      "source": [
        "import scipy.stats as ss\n",
        "\n",
        "# Парето P&L\n",
        "params = ss.genpareto.fit(-res) # переношу данные об убытках в правый хвост\n",
        "print(\"GenPareto: {:.2f} \".format(ss.genpareto.ppf(level, *params))) # квантиль распределения в правом хвосте\n",
        "\n",
        "# Нормальность приращений P&L\n",
        "# print(pd.Series(res).diff())\n",
        "incr = pd.Series(res).diff().dropna()\n",
        "params = ss.norm.fit(incr)\n",
        "print(\"Normal: {:.2f} \".format( - (res[-1] + ss.norm.ppf(1 - level, *params))))\n",
        "print(ss.norm.ppf(1 - level, *params))"
      ],
      "execution_count": null,
      "outputs": [
        {
          "output_type": "stream",
          "name": "stdout",
          "text": [
            "GenPareto: 21.76 \n",
            "Normal: 25.74 \n",
            "-8.735007463158482\n"
          ]
        }
      ]
    },
    {
      "cell_type": "markdown",
      "metadata": {
        "id": "afMN0r1d84bX"
      },
      "source": [
        "*Задачи* 4 и 5"
      ]
    },
    {
      "cell_type": "code",
      "metadata": {
        "colab": {
          "base_uri": "https://localhost:8080/"
        },
        "id": "Y18hW-d02uw9",
        "outputId": "c8b6aebc-e690-4798-b0aa-ef88e95dcf8b"
      },
      "source": [
        "# Исходный ряд\n",
        "rates = pd.Series([6.37,6.36,6.35,6.34,6.34,6.35,6.36,6.36,6.37,6.33,6.32,6.32,6.33,6.15,6.16,6.09,6.1,6.06,5.94,5.91,5.92,5.87,5.8,5.73,5.71,5.64,5.6,5.58,5.58,5.56,5.52,5.46,5.43,5.39,5.36,5.36,5.37,5.38,5.37,5.36,5.36,5.35,5.38,5.38,5.33,5.29,5.26,5.22,5.13,5.11,5.08,5.05,5,4.98,4.96,4.95,4.95,4.95,4.92,4.89,4.88,4.86,4.86,4.83,4.83,4.84,4.85,4.86,4.87,4.9,4.93,4.94,4.95,4.96,4.95,4.81,4.8,4.79,4.78,4.73,4.72,4.74,4.66,4.64,4.62,4.62,4.63,4.61,4.58,4.59,4.57,4.58,4.58,4.55,4.54,4.51,4.51,4.51,4.52,4.51,4.43,4.35,4.36,4.32,4.27,4.21,4.19,4.18,4.19,4.2,4.2,4.21,4.21,4.21,4.22,4.2,4.2,4.2,4.2,4.21,4.23,4.21,4.22,4.21,4.21,4.21,4.21,4.21,4.21,4.21,4.21,4.22,4.23,4.23,4.23,4.23,4.23,4.22,4.21,4.21,4.2,4.19,4.2,4.21,4.21,4.21,4.2,4.2,4.2,4.18,4.16,4.16,4.16,4.17,4.17,4.17,4.15,4.13,4.13,4.13,4.12,4.11,4.11,4.11,4.12,4.13,4.13,4.14,4.15,4.15,4.15,4.16,4.16,4.17,4.17,4.17,4.17,4.17,4.17,4.17,4.17,4.16,4.16,4.17,4.18,4.16,4.17,4.17,4.18,4.18,4.18,4.18,4.18,4.18,4.18,4.18,4.18,4.18,4.18,4.18,4.18,4.17,4.17,4.18,4.18,4.18,4.17,4.17,4.17,4.17,4.17,4.17,4.17,4.17,4.17,4.17,4.16,4.16,4.16,4.15,4.15,4.14,4.14,4.13,4.14,4.15,4.15,4.14,4.14,4.14,4.14,4.14,4.14,4.14,4.14,4.14,4.15,4.15,4.14,4.15,4.15,4.15,4.14,4.14,4.14,4.13,4.13,4.13,4.13,4.13,4.14,4.14,4.15,4.15,4.13,4.15,4.16,4.15,4.16,4.17,4.17,4.17,4.18,4.18,4.18,4.19,4.21,4.21,4.23,4.26,4.27,4.28,4.29,4.3,4.33,4.37,4.37,4.37,4.38,4.39,4.44,4.47,4.39,4.45,4.67,4.83,4.88,4.94,5.01,5.07,5.06,5.18,5.23,5.24,5.24,5.26,5.28,5.29,5.29,5.3,5.32,5.3,5.31,5.32,5.36,5.36,5.38,5.39,5.42,5.48,5.48,5.51,5.53,5.53,5.53,5.52,5.51,5.49,5.54,5.67,5.69,5.72,5.7,5.7,5.77,5.81,5.82,5.83,5.83,5.84,5.85,5.83,5.83,5.86,5.87,5.84,5.88,5.96,5.97,6.08,6.21,6.11,6.23,6.39,6.35,6.36,6.02,5.99,5.85,5.83,5.84,5.86,5.85,5.85,5.84,5.84,5.84,5.85,5.85,5.86,5.88,5.87,5.87,5.88,5.89,5.89,5.93,6.02,6.03,6.04,6.04,6.05,6.04,6.04,6.04,6.04,6.04,6.05,6.05,6.06,6.07,6.07,6.08,6.09,6.1,6.09,6.09,6.1,6.09])\n",
        "last_rate = rates[0]\n",
        "print(\"Последнее значение ставки \", last_rate)\n",
        "rates = rates[: : -1]\n",
        "print(rates)\n",
        "rates.pct_change().dropna()"
      ],
      "execution_count": null,
      "outputs": [
        {
          "output_type": "stream",
          "name": "stdout",
          "text": [
            "Последнее значение ставки  6.37\n",
            "388    6.09\n",
            "387    6.10\n",
            "386    6.09\n",
            "385    6.09\n",
            "384    6.10\n",
            "       ... \n",
            "4      6.34\n",
            "3      6.34\n",
            "2      6.35\n",
            "1      6.36\n",
            "0      6.37\n",
            "Length: 389, dtype: float64\n"
          ]
        },
        {
          "output_type": "execute_result",
          "data": {
            "text/plain": [
              "387    0.001642\n",
              "386   -0.001639\n",
              "385    0.000000\n",
              "384    0.001642\n",
              "383   -0.001639\n",
              "         ...   \n",
              "4     -0.001575\n",
              "3      0.000000\n",
              "2      0.001577\n",
              "1      0.001575\n",
              "0      0.001572\n",
              "Length: 388, dtype: float64"
            ]
          },
          "metadata": {},
          "execution_count": 25
        }
      ]
    },
    {
      "cell_type": "code",
      "metadata": {
        "colab": {
          "base_uri": "https://localhost:8080/",
          "height": 287
        },
        "id": "TXQebfjhsq9n",
        "outputId": "8962d63d-aa3e-490f-da94-8c979774633e"
      },
      "source": [
        "rates.plot()"
      ],
      "execution_count": null,
      "outputs": [
        {
          "output_type": "execute_result",
          "data": {
            "text/plain": [
              "<matplotlib.axes._subplots.AxesSubplot at 0x7fef0d6d4d10>"
            ]
          },
          "metadata": {},
          "execution_count": 26
        },
        {
          "output_type": "display_data",
          "data": {
            "text/plain": [
              "<Figure size 432x288 with 1 Axes>"
            ],
            "image/png": "[encoded data removed]"
          },
          "metadata": {
            "needs_background": "light"
          }
        }
      ]
    },
    {
      "cell_type": "code",
      "metadata": {
        "colab": {
          "base_uri": "https://localhost:8080/",
          "height": 283
        },
        "id": "E3NO3gdTsrlS",
        "outputId": "040d4dca-900f-4ddc-e192-d395fbd7791b"
      },
      "source": [
        "r_diff = rates.diff().dropna()\n",
        "r_diff.plot()"
      ],
      "execution_count": null,
      "outputs": [
        {
          "output_type": "execute_result",
          "data": {
            "text/plain": [
              "<matplotlib.axes._subplots.AxesSubplot at 0x7fef0d5320d0>"
            ]
          },
          "metadata": {},
          "execution_count": 27
        },
        {
          "output_type": "display_data",
          "data": {
            "text/plain": [
              "<Figure size 432x288 with 1 Axes>"
            ],
            "image/png": "[encoded data removed]"
          },
          "metadata": {
            "needs_background": "light"
          }
        }
      ]
    },
    {
      "cell_type": "code",
      "metadata": {
        "colab": {
          "base_uri": "https://localhost:8080/",
          "height": 284
        },
        "id": "baTFax67srzO",
        "outputId": "2038597a-f0bb-4a00-e1bd-dca4ced4b729"
      },
      "source": [
        "r_ret = rates.pct_change().dropna()\n",
        "r_ret.plot()"
      ],
      "execution_count": null,
      "outputs": [
        {
          "output_type": "execute_result",
          "data": {
            "text/plain": [
              "<matplotlib.axes._subplots.AxesSubplot at 0x7fef0d486b90>"
            ]
          },
          "metadata": {},
          "execution_count": 32
        },
        {
          "output_type": "display_data",
          "data": {
            "text/plain": [
              "<Figure size 432x288 with 1 Axes>"
            ],
            "image/png": "[encoded data removed]"
          },
          "metadata": {
            "needs_background": "light"
          }
        }
      ]
    },
    {
      "cell_type": "code",
      "metadata": {
        "colab": {
          "base_uri": "https://localhost:8080/"
        },
        "id": "OIR0ifFGtM2x",
        "outputId": "7c07a513-9850-4a2a-a889-302f49af3317"
      },
      "source": [
        "level = .99\n",
        "\n",
        "print(\"HS for IR: {:.2f} \".format(last_rate + calculate_VaR_HS(pd.Series(-r_diff), level) )) # просто 1-level подставить нельзя, т.к.это потребует изменения interpolatio в функции для VaR.\n",
        "print(\"HS for IR: {:.2f} \".format(last_rate*(1 + calculate_VaR_HS(pd.Series(-r_ret), level) )))\n",
        "\n",
        "params = ss.norm.fit(r_diff)\n",
        "print(\"Norm for IR: {:.2f} \".format(last_rate + ss.norm.ppf(level, *params)))"
      ],
      "execution_count": null,
      "outputs": [
        {
          "output_type": "stream",
          "name": "stdout",
          "text": [
            "HS for IR: 6.49 \n",
            "HS for IR: 6.50 \n",
            "Norm for IR: 6.46 \n"
          ]
        }
      ]
    }
  ]
}