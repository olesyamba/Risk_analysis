{
  "nbformat": 4,
  "nbformat_minor": 0,
  "metadata": {
    "colab": {
      "provenance": [],
      "toc_visible": true,
      "include_colab_link": true
    },
    "kernelspec": {
      "name": "python3",
      "display_name": "Python 3"
    },
    "language_info": {
      "name": "python"
    }
  },
  "cells": [
    {
      "cell_type": "markdown",
      "metadata": {
        "id": "view-in-github",
        "colab_type": "text"
      },
      "source": [
        "<a href=\"https://colab.research.google.com/github/olesyamba/Risk_analysis/blob/main/portfolio_risk_evaluation.ipynb\" target=\"_parent\"><img src=\"https://colab.research.google.com/assets/colab-badge.svg\" alt=\"Open In Colab\"/></a>"
      ]
    },
    {
      "cell_type": "code",
      "metadata": {
        "id": "0XhfPtrejKhj"
      },
      "source": [
        "import numpy as np\n",
        "!pip install --upgrade pandas>=1.2\n",
        "import pandas as pd\n",
        "import matplotlib.pyplot as plt\n",
        "import scipy.stats as ss\n",
        "!pip install yfinance\n",
        "import yfinance as yf"
      ],
      "execution_count": null,
      "outputs": []
    },
    {
      "cell_type": "markdown",
      "source": [
        "# 1. Аппроксимация риска: коэффициенты чувствительности\n",
        "\n",
        "Цена актива как функция от значения риск-фактора.\n",
        "\n",
        "Примеры:\n",
        "\n",
        "- Акции:\n",
        "  \n",
        " $S_t = S_{t-1}\\cdot e^{r_t}$, где $S_{t-1}$ - цена акции начала периода, $r_t$\n",
        "\n",
        "- Бескупонная облигации:\n",
        "\n",
        "  $B_t = N\\cdot e^{-y_t(s)\\cdot s}$, где  $y_t(s)$ - процентна ставка непрерывного начисления (%/годовых), $s$ -срок до погашения в годах.\n",
        "\n",
        "- Опцион:\n",
        "\n",
        "  $C_t = f(S_t, \\sigma_t)$ -  где $S_{t-1}$ - цена базового актива, $\\sigma_t$ - волатильность его цены."
      ],
      "metadata": {
        "id": "3Wnyf3-DmuXq"
      }
    },
    {
      "cell_type": "markdown",
      "metadata": {
        "id": "JCh1pwLSnbM7"
      },
      "source": [
        "## Пример\n",
        "\n",
        "Зависимость цены актива $P$ от двух риск-факторов $X,\\,Y$  моделируется функцией\n",
        "$$\n",
        "P(x,\\,y) = \\frac{x - F}{(1+y)^2},\n",
        "$$\n",
        "$F=55$. Факторы $X, Y$ нестационарны и положительны, так что имеет смысл переходить к доходностям. Текущие значения риск-факторов: $X=50,\\,y=0.05$. Найдите текущие чувствительности доходности актива к доходностям этих двух факторов.\n",
        "\n",
        "\n",
        "1. Переходим к доходностям (или разностям). Факторы риска -- доходности $\\frac{X-X_0}{X_0}$ и $\\frac{Y-Y_0}{Y_0}$. Вместо цены -- тоже доходность: $\\frac{P-P_0}{P_0}$.\n",
        "\n",
        "2. Считаем чувствительность:\n",
        "$$\n",
        "\\frac{\\partial\\left(\\frac{P(x,y)-P(x_0,y_0)}{P(x_0,y_0)}\\right)}{\\partial\\left(\\frac{x-x_0}{x_0}\\right)}=\\frac{\\partial P(x,y)}{\\partial x}\\cdot\\frac{x_0}{P(x_0,y_0)}\n",
        "$$"
      ]
    },
    {
      "cell_type": "code",
      "metadata": {
        "id": "0Mer0gJYnWer"
      },
      "source": [
        "F = 55\n",
        "x0 = 50\n",
        "y0 = 0.05\n",
        "\n",
        "\n",
        "def price_asset(x, y):\n",
        "  return (x - F) / (1 + y)**2\n",
        "\n",
        "def return_asset(rx, ry):\n",
        "  return price_asset(x0 * (1 + rx), y0 * (1 + ry)) / price_asset(x0, y0) - 1\n",
        "\n",
        "def log_return_asset(lrx, diffy):\n",
        "  return np.log( price_asset(x0 * np.exp(lrx), y0 + diffy)  /  price_asset(x0, y0) )"
      ],
      "execution_count": null,
      "outputs": []
    },
    {
      "cell_type": "code",
      "metadata": {
        "colab": {
          "base_uri": "https://localhost:8080/"
        },
        "id": "cqcf083so9Vt",
        "outputId": "54e5f041-c4b4-4bb5-e296-b1ea09a9887c"
      },
      "source": [
        "e = 1e-8\n",
        "print((return_asset(e, 0) - return_asset(0, 0)) / e, (return_asset(0, e) - return_asset(0, 0)) / e)"
      ],
      "execution_count": null,
      "outputs": [
        {
          "output_type": "stream",
          "name": "stdout",
          "text": [
            "-9.999999983634211 -0.09523810629019636\n"
          ]
        }
      ]
    },
    {
      "cell_type": "code",
      "metadata": {
        "colab": {
          "base_uri": "https://localhost:8080/"
        },
        "id": "QRP98I_1pRR6",
        "outputId": "942848b8-f4af-406a-8ae7-e9fce42ea95e"
      },
      "source": [
        "from autograd import grad\n",
        "grad(return_asset, [0, 1]) (0.0, 0.0)"
      ],
      "execution_count": null,
      "outputs": [
        {
          "output_type": "execute_result",
          "data": {
            "text/plain": [
              "(array(-10.), array(-0.0952381))"
            ]
          },
          "metadata": {},
          "execution_count": 207
        }
      ]
    },
    {
      "cell_type": "markdown",
      "source": [
        "# 2. Декомпозиция на риск-факторы"
      ],
      "metadata": {
        "id": "x8C_LAQ6tUJo"
      }
    },
    {
      "cell_type": "markdown",
      "metadata": {
        "id": "bZZK8s75qFxD"
      },
      "source": [
        "Портфель состоит из одной акции JP Morgan Chase, двух акций Microsoft, две Exxon Mobil и трёх акций Pfizer. Рассматривается два риск-фактора -- индекс S&P 500, курс юаня к доллару и цена на нефть. Временной период -- с 1 января по 31 декабря 2020 года."
      ]
    },
    {
      "cell_type": "code",
      "metadata": {
        "colab": {
          "base_uri": "https://localhost:8080/"
        },
        "id": "Bz1EncBMqE1C",
        "outputId": "549f9542-13f2-4c96-c2db-b82f205e6e47"
      },
      "source": [
        "tickers = {\n",
        "    \"JPMorgan\": \"JPM\",\n",
        "    \"Microsoft\": \"MSFT\",\n",
        "    \"Pfizer\": \"PFE\",\n",
        "    \"ExxonMobil\": \"XOM\",\n",
        "    \"SnP\": \"^GSPC\",\n",
        "    \"FX\": \"CNYUSD=X\",\n",
        "    \"Oil\": \"CL=F\"\n",
        "}\n",
        "\n",
        "portfolio = {\n",
        "    \"JPMorgan\": 1,\n",
        "    \"Microsoft\": 1,\n",
        "    \"ExxonMobil\":2,\n",
        "    \"Pfizer\": 3\n",
        "}\n",
        "\n",
        "factors = [\"SnP\", \"FX\", \"Oil\"]\n",
        "\n",
        "portfolio_composition = pd.Series(portfolio)\n",
        "portfolio_composition"
      ],
      "execution_count": null,
      "outputs": [
        {
          "output_type": "execute_result",
          "data": {
            "text/plain": [
              "JPMorgan      1\n",
              "Microsoft     1\n",
              "ExxonMobil    2\n",
              "Pfizer        3\n",
              "dtype: int64"
            ]
          },
          "metadata": {},
          "execution_count": 229
        }
      ]
    },
    {
      "cell_type": "code",
      "source": [
        "# Вспомогательная функция для исправления дат при загрузке валют и ценных бумаг\n",
        "\n",
        "def norm_datetimeidx(table):\n",
        "  table.index = table.index.tz_convert(None).normalize()\n",
        "  return table"
      ],
      "metadata": {
        "id": "JtrzyFbUuLsu"
      },
      "execution_count": null,
      "outputs": []
    },
    {
      "cell_type": "code",
      "metadata": {
        "colab": {
          "base_uri": "https://localhost:8080/",
          "height": 884
        },
        "id": "3vnTj2owqzEU",
        "outputId": "326f9477-8725-46a9-ee74-a0d5979bb7fe"
      },
      "source": [
        "# Загрузим данные в единую таблицу\n",
        "\n",
        "quote_data = pd.DataFrame(\n",
        "    {\n",
        "        factor: norm_datetimeidx(yf.download(ticker, \"2020-01-01\", \"2020-12-31\")['Adj Close'])\n",
        "        for factor, ticker in tickers.items()\n",
        "    }\n",
        ")\n",
        "\n",
        "quote_data.dropna(inplace=True) # для простоты удалим строки с пропусками данных\n",
        "quote_data = quote_data[quote_data.Oil > 0]\n",
        "quote_data.plot()\n",
        "(quote_data/quote_data.iloc[0,:]).plot()\n",
        "quote_data.head(5)"
      ],
      "execution_count": null,
      "outputs": [
        {
          "output_type": "stream",
          "name": "stdout",
          "text": [
            "[*********************100%***********************]  1 of 1 completed\n",
            "[*********************100%***********************]  1 of 1 completed\n",
            "[*********************100%***********************]  1 of 1 completed\n",
            "[*********************100%***********************]  1 of 1 completed\n",
            "[*********************100%***********************]  1 of 1 completed\n",
            "[*********************100%***********************]  1 of 1 completed\n",
            "[*********************100%***********************]  1 of 1 completed\n"
          ]
        },
        {
          "output_type": "execute_result",
          "data": {
            "text/plain": [
              "              JPMorgan   Microsoft     Pfizer  ExxonMobil          SnP  \\\n",
              "Date                                                                     \n",
              "2020-01-02  128.747040  156.591995  33.538971   59.971916  3257.850098   \n",
              "2020-01-03  127.048035  154.642151  33.359020   59.489777  3234.850098   \n",
              "2020-01-06  126.947037  155.041885  33.316177   59.946548  3246.280029   \n",
              "2020-01-07  124.788826  153.628265  33.204781   59.455936  3237.179932   \n",
              "2020-01-08  125.762321  156.075287  33.470413   58.559322  3253.050049   \n",
              "\n",
              "                  FX        Oil  \n",
              "Date                             \n",
              "2020-01-02  0.143633  61.180000  \n",
              "2020-01-03  0.143608  63.049999  \n",
              "2020-01-06  0.143585  63.270000  \n",
              "2020-01-07  0.143379  62.700001  \n",
              "2020-01-08  0.144001  59.610001  "
            ],
            "text/html": [
              "\n",
              "  <div id=\"df-e65e1559-7c86-4425-bf7a-5525e568d5d9\">\n",
              "    <div class=\"colab-df-container\">\n",
              "      <div>\n",
              "<style scoped>\n",
              "    .dataframe tbody tr th:only-of-type {\n",
              "        vertical-align: middle;\n",
              "    }\n",
              "\n",
              "    .dataframe tbody tr th {\n",
              "        vertical-align: top;\n",
              "    }\n",
              "\n",
              "    .dataframe thead th {\n",
              "        text-align: right;\n",
              "    }\n",
              "</style>\n",
              "<table border=\"1\" class=\"dataframe\">\n",
              "  <thead>\n",
              "    <tr style=\"text-align: right;\">\n",
              "      <th></th>\n",
              "      <th>JPMorgan</th>\n",
              "      <th>Microsoft</th>\n",
              "      <th>Pfizer</th>\n",
              "      <th>ExxonMobil</th>\n",
              "      <th>SnP</th>\n",
              "      <th>FX</th>\n",
              "      <th>Oil</th>\n",
              "    </tr>\n",
              "    <tr>\n",
              "      <th>Date</th>\n",
              "      <th></th>\n",
              "      <th></th>\n",
              "      <th></th>\n",
              "      <th></th>\n",
              "      <th></th>\n",
              "      <th></th>\n",
              "      <th></th>\n",
              "    </tr>\n",
              "  </thead>\n",
              "  <tbody>\n",
              "    <tr>\n",
              "      <th>2020-01-02</th>\n",
              "      <td>128.747040</td>\n",
              "      <td>156.591995</td>\n",
              "      <td>33.538971</td>\n",
              "      <td>59.971916</td>\n",
              "      <td>3257.850098</td>\n",
              "      <td>0.143633</td>\n",
              "      <td>61.180000</td>\n",
              "    </tr>\n",
              "    <tr>\n",
              "      <th>2020-01-03</th>\n",
              "      <td>127.048035</td>\n",
              "      <td>154.642151</td>\n",
              "      <td>33.359020</td>\n",
              "      <td>59.489777</td>\n",
              "      <td>3234.850098</td>\n",
              "      <td>0.143608</td>\n",
              "      <td>63.049999</td>\n",
              "    </tr>\n",
              "    <tr>\n",
              "      <th>2020-01-06</th>\n",
              "      <td>126.947037</td>\n",
              "      <td>155.041885</td>\n",
              "      <td>33.316177</td>\n",
              "      <td>59.946548</td>\n",
              "      <td>3246.280029</td>\n",
              "      <td>0.143585</td>\n",
              "      <td>63.270000</td>\n",
              "    </tr>\n",
              "    <tr>\n",
              "      <th>2020-01-07</th>\n",
              "      <td>124.788826</td>\n",
              "      <td>153.628265</td>\n",
              "      <td>33.204781</td>\n",
              "      <td>59.455936</td>\n",
              "      <td>3237.179932</td>\n",
              "      <td>0.143379</td>\n",
              "      <td>62.700001</td>\n",
              "    </tr>\n",
              "    <tr>\n",
              "      <th>2020-01-08</th>\n",
              "      <td>125.762321</td>\n",
              "      <td>156.075287</td>\n",
              "      <td>33.470413</td>\n",
              "      <td>58.559322</td>\n",
              "      <td>3253.050049</td>\n",
              "      <td>0.144001</td>\n",
              "      <td>59.610001</td>\n",
              "    </tr>\n",
              "  </tbody>\n",
              "</table>\n",
              "</div>\n",
              "      <button class=\"colab-df-convert\" onclick=\"convertToInteractive('df-e65e1559-7c86-4425-bf7a-5525e568d5d9')\"\n",
              "              title=\"Convert this dataframe to an interactive table.\"\n",
              "              style=\"display:none;\">\n",
              "        \n",
              "  <svg xmlns=\"http://www.w3.org/2000/svg\" height=\"24px\"viewBox=\"0 0 24 24\"\n",
              "       width=\"24px\">\n",
              "    <path d=\"M0 0h24v24H0V0z\" fill=\"none\"/>\n",
              "    <path d=\"M18.56 5.44l.94 2.06.94-2.06 2.06-.94-2.06-.94-.94-2.06-.94 2.06-2.06.94zm-11 1L8.5 8.5l.94-2.06 2.06-.94-2.06-.94L8.5 2.5l-.94 2.06-2.06.94zm10 10l.94 2.06.94-2.06 2.06-.94-2.06-.94-.94-2.06-.94 2.06-2.06.94z\"/><path d=\"M17.41 7.96l-1.37-1.37c-.4-.4-.92-.59-1.43-.59-.52 0-1.04.2-1.43.59L10.3 9.45l-7.72 7.72c-.78.78-.78 2.05 0 2.83L4 21.41c.39.39.9.59 1.41.59.51 0 1.02-.2 1.41-.59l7.78-7.78 2.81-2.81c.8-.78.8-2.07 0-2.86zM5.41 20L4 18.59l7.72-7.72 1.47 1.35L5.41 20z\"/>\n",
              "  </svg>\n",
              "      </button>\n",
              "      \n",
              "  <style>\n",
              "    .colab-df-container {\n",
              "      display:flex;\n",
              "      flex-wrap:wrap;\n",
              "      gap: 12px;\n",
              "    }\n",
              "\n",
              "    .colab-df-convert {\n",
              "      background-color: #E8F0FE;\n",
              "      border: none;\n",
              "      border-radius: 50%;\n",
              "      cursor: pointer;\n",
              "      display: none;\n",
              "      fill: #1967D2;\n",
              "      height: 32px;\n",
              "      padding: 0 0 0 0;\n",
              "      width: 32px;\n",
              "    }\n",
              "\n",
              "    .colab-df-convert:hover {\n",
              "      background-color: #E2EBFA;\n",
              "      box-shadow: 0px 1px 2px rgba(60, 64, 67, 0.3), 0px 1px 3px 1px rgba(60, 64, 67, 0.15);\n",
              "      fill: #174EA6;\n",
              "    }\n",
              "\n",
              "    [theme=dark] .colab-df-convert {\n",
              "      background-color: #3B4455;\n",
              "      fill: #D2E3FC;\n",
              "    }\n",
              "\n",
              "    [theme=dark] .colab-df-convert:hover {\n",
              "      background-color: #434B5C;\n",
              "      box-shadow: 0px 1px 3px 1px rgba(0, 0, 0, 0.15);\n",
              "      filter: drop-shadow(0px 1px 2px rgba(0, 0, 0, 0.3));\n",
              "      fill: #FFFFFF;\n",
              "    }\n",
              "  </style>\n",
              "\n",
              "      <script>\n",
              "        const buttonEl =\n",
              "          document.querySelector('#df-e65e1559-7c86-4425-bf7a-5525e568d5d9 button.colab-df-convert');\n",
              "        buttonEl.style.display =\n",
              "          google.colab.kernel.accessAllowed ? 'block' : 'none';\n",
              "\n",
              "        async function convertToInteractive(key) {\n",
              "          const element = document.querySelector('#df-e65e1559-7c86-4425-bf7a-5525e568d5d9');\n",
              "          const dataTable =\n",
              "            await google.colab.kernel.invokeFunction('convertToInteractive',\n",
              "                                                     [key], {});\n",
              "          if (!dataTable) return;\n",
              "\n",
              "          const docLinkHtml = 'Like what you see? Visit the ' +\n",
              "            '<a target=\"_blank\" href=https://colab.research.google.com/notebooks/data_table.ipynb>data table notebook</a>'\n",
              "            + ' to learn more about interactive tables.';\n",
              "          element.innerHTML = '';\n",
              "          dataTable['output_type'] = 'display_data';\n",
              "          await google.colab.output.renderOutput(dataTable, element);\n",
              "          const docLink = document.createElement('div');\n",
              "          docLink.innerHTML = docLinkHtml;\n",
              "          element.appendChild(docLink);\n",
              "        }\n",
              "      </script>\n",
              "    </div>\n",
              "  </div>\n",
              "  "
            ]
          },
          "metadata": {},
          "execution_count": 212
        },
        {
          "output_type": "display_data",
          "data": {
            "text/plain": [
              "<Figure size 432x288 with 1 Axes>"
            ],
            "image/png": "[encoded data removed]"
          },
          "metadata": {
            "needs_background": "light"
          }
        },
        {
          "output_type": "display_data",
          "data": {
            "text/plain": [
              "<Figure size 432x288 with 1 Axes>"
            ],
            "image/png": "[encoded data removed]"
          },
          "metadata": {
            "needs_background": "light"
          }
        }
      ]
    },
    {
      "cell_type": "code",
      "metadata": {
        "colab": {
          "base_uri": "https://localhost:8080/",
          "height": 497
        },
        "id": "GLt-QJXfrUfy",
        "outputId": "6c229eeb-8e6e-4cec-a5be-f56fb3ac3af4"
      },
      "source": [
        "returns = quote_data.pct_change().dropna()\n",
        "returns.plot()\n",
        "returns.head(5)"
      ],
      "execution_count": null,
      "outputs": [
        {
          "output_type": "execute_result",
          "data": {
            "text/plain": [
              "            JPMorgan  Microsoft    Pfizer  ExxonMobil       SnP        FX  \\\n",
              "Date                                                                        \n",
              "2020-01-03 -0.013196  -0.012452 -0.005365   -0.008039 -0.007060 -0.000172   \n",
              "2020-01-06 -0.000795   0.002585 -0.001284    0.007678  0.003533 -0.000158   \n",
              "2020-01-07 -0.017001  -0.009118 -0.003344   -0.008184 -0.002803 -0.001434   \n",
              "2020-01-08  0.007801   0.015928  0.008000   -0.015080  0.004902  0.004334   \n",
              "2020-01-09  0.003651   0.012493 -0.004352    0.007656  0.006655 -0.000115   \n",
              "\n",
              "                 Oil  \n",
              "Date                  \n",
              "2020-01-03  0.030566  \n",
              "2020-01-06  0.003489  \n",
              "2020-01-07 -0.009009  \n",
              "2020-01-08 -0.049282  \n",
              "2020-01-09 -0.000839  "
            ],
            "text/html": [
              "\n",
              "  <div id=\"df-09155d0a-1226-4dac-bd30-cf8feeb9de28\">\n",
              "    <div class=\"colab-df-container\">\n",
              "      <div>\n",
              "<style scoped>\n",
              "    .dataframe tbody tr th:only-of-type {\n",
              "        vertical-align: middle;\n",
              "    }\n",
              "\n",
              "    .dataframe tbody tr th {\n",
              "        vertical-align: top;\n",
              "    }\n",
              "\n",
              "    .dataframe thead th {\n",
              "        text-align: right;\n",
              "    }\n",
              "</style>\n",
              "<table border=\"1\" class=\"dataframe\">\n",
              "  <thead>\n",
              "    <tr style=\"text-align: right;\">\n",
              "      <th></th>\n",
              "      <th>JPMorgan</th>\n",
              "      <th>Microsoft</th>\n",
              "      <th>Pfizer</th>\n",
              "      <th>ExxonMobil</th>\n",
              "      <th>SnP</th>\n",
              "      <th>FX</th>\n",
              "      <th>Oil</th>\n",
              "    </tr>\n",
              "    <tr>\n",
              "      <th>Date</th>\n",
              "      <th></th>\n",
              "      <th></th>\n",
              "      <th></th>\n",
              "      <th></th>\n",
              "      <th></th>\n",
              "      <th></th>\n",
              "      <th></th>\n",
              "    </tr>\n",
              "  </thead>\n",
              "  <tbody>\n",
              "    <tr>\n",
              "      <th>2020-01-03</th>\n",
              "      <td>-0.013196</td>\n",
              "      <td>-0.012452</td>\n",
              "      <td>-0.005365</td>\n",
              "      <td>-0.008039</td>\n",
              "      <td>-0.007060</td>\n",
              "      <td>-0.000172</td>\n",
              "      <td>0.030566</td>\n",
              "    </tr>\n",
              "    <tr>\n",
              "      <th>2020-01-06</th>\n",
              "      <td>-0.000795</td>\n",
              "      <td>0.002585</td>\n",
              "      <td>-0.001284</td>\n",
              "      <td>0.007678</td>\n",
              "      <td>0.003533</td>\n",
              "      <td>-0.000158</td>\n",
              "      <td>0.003489</td>\n",
              "    </tr>\n",
              "    <tr>\n",
              "      <th>2020-01-07</th>\n",
              "      <td>-0.017001</td>\n",
              "      <td>-0.009118</td>\n",
              "      <td>-0.003344</td>\n",
              "      <td>-0.008184</td>\n",
              "      <td>-0.002803</td>\n",
              "      <td>-0.001434</td>\n",
              "      <td>-0.009009</td>\n",
              "    </tr>\n",
              "    <tr>\n",
              "      <th>2020-01-08</th>\n",
              "      <td>0.007801</td>\n",
              "      <td>0.015928</td>\n",
              "      <td>0.008000</td>\n",
              "      <td>-0.015080</td>\n",
              "      <td>0.004902</td>\n",
              "      <td>0.004334</td>\n",
              "      <td>-0.049282</td>\n",
              "    </tr>\n",
              "    <tr>\n",
              "      <th>2020-01-09</th>\n",
              "      <td>0.003651</td>\n",
              "      <td>0.012493</td>\n",
              "      <td>-0.004352</td>\n",
              "      <td>0.007656</td>\n",
              "      <td>0.006655</td>\n",
              "      <td>-0.000115</td>\n",
              "      <td>-0.000839</td>\n",
              "    </tr>\n",
              "  </tbody>\n",
              "</table>\n",
              "</div>\n",
              "      <button class=\"colab-df-convert\" onclick=\"convertToInteractive('df-09155d0a-1226-4dac-bd30-cf8feeb9de28')\"\n",
              "              title=\"Convert this dataframe to an interactive table.\"\n",
              "              style=\"display:none;\">\n",
              "        \n",
              "  <svg xmlns=\"http://www.w3.org/2000/svg\" height=\"24px\"viewBox=\"0 0 24 24\"\n",
              "       width=\"24px\">\n",
              "    <path d=\"M0 0h24v24H0V0z\" fill=\"none\"/>\n",
              "    <path d=\"M18.56 5.44l.94 2.06.94-2.06 2.06-.94-2.06-.94-.94-2.06-.94 2.06-2.06.94zm-11 1L8.5 8.5l.94-2.06 2.06-.94-2.06-.94L8.5 2.5l-.94 2.06-2.06.94zm10 10l.94 2.06.94-2.06 2.06-.94-2.06-.94-.94-2.06-.94 2.06-2.06.94z\"/><path d=\"M17.41 7.96l-1.37-1.37c-.4-.4-.92-.59-1.43-.59-.52 0-1.04.2-1.43.59L10.3 9.45l-7.72 7.72c-.78.78-.78 2.05 0 2.83L4 21.41c.39.39.9.59 1.41.59.51 0 1.02-.2 1.41-.59l7.78-7.78 2.81-2.81c.8-.78.8-2.07 0-2.86zM5.41 20L4 18.59l7.72-7.72 1.47 1.35L5.41 20z\"/>\n",
              "  </svg>\n",
              "      </button>\n",
              "      \n",
              "  <style>\n",
              "    .colab-df-container {\n",
              "      display:flex;\n",
              "      flex-wrap:wrap;\n",
              "      gap: 12px;\n",
              "    }\n",
              "\n",
              "    .colab-df-convert {\n",
              "      background-color: #E8F0FE;\n",
              "      border: none;\n",
              "      border-radius: 50%;\n",
              "      cursor: pointer;\n",
              "      display: none;\n",
              "      fill: #1967D2;\n",
              "      height: 32px;\n",
              "      padding: 0 0 0 0;\n",
              "      width: 32px;\n",
              "    }\n",
              "\n",
              "    .colab-df-convert:hover {\n",
              "      background-color: #E2EBFA;\n",
              "      box-shadow: 0px 1px 2px rgba(60, 64, 67, 0.3), 0px 1px 3px 1px rgba(60, 64, 67, 0.15);\n",
              "      fill: #174EA6;\n",
              "    }\n",
              "\n",
              "    [theme=dark] .colab-df-convert {\n",
              "      background-color: #3B4455;\n",
              "      fill: #D2E3FC;\n",
              "    }\n",
              "\n",
              "    [theme=dark] .colab-df-convert:hover {\n",
              "      background-color: #434B5C;\n",
              "      box-shadow: 0px 1px 3px 1px rgba(0, 0, 0, 0.15);\n",
              "      filter: drop-shadow(0px 1px 2px rgba(0, 0, 0, 0.3));\n",
              "      fill: #FFFFFF;\n",
              "    }\n",
              "  </style>\n",
              "\n",
              "      <script>\n",
              "        const buttonEl =\n",
              "          document.querySelector('#df-09155d0a-1226-4dac-bd30-cf8feeb9de28 button.colab-df-convert');\n",
              "        buttonEl.style.display =\n",
              "          google.colab.kernel.accessAllowed ? 'block' : 'none';\n",
              "\n",
              "        async function convertToInteractive(key) {\n",
              "          const element = document.querySelector('#df-09155d0a-1226-4dac-bd30-cf8feeb9de28');\n",
              "          const dataTable =\n",
              "            await google.colab.kernel.invokeFunction('convertToInteractive',\n",
              "                                                     [key], {});\n",
              "          if (!dataTable) return;\n",
              "\n",
              "          const docLinkHtml = 'Like what you see? Visit the ' +\n",
              "            '<a target=\"_blank\" href=https://colab.research.google.com/notebooks/data_table.ipynb>data table notebook</a>'\n",
              "            + ' to learn more about interactive tables.';\n",
              "          element.innerHTML = '';\n",
              "          dataTable['output_type'] = 'display_data';\n",
              "          await google.colab.output.renderOutput(dataTable, element);\n",
              "          const docLink = document.createElement('div');\n",
              "          docLink.innerHTML = docLinkHtml;\n",
              "          element.appendChild(docLink);\n",
              "        }\n",
              "      </script>\n",
              "    </div>\n",
              "  </div>\n",
              "  "
            ]
          },
          "metadata": {},
          "execution_count": 213
        },
        {
          "output_type": "display_data",
          "data": {
            "text/plain": [
              "<Figure size 432x288 with 1 Axes>"
            ],
            "image/png": "[encoded data removed]"
          },
          "metadata": {
            "needs_background": "light"
          }
        }
      ]
    },
    {
      "cell_type": "code",
      "metadata": {
        "colab": {
          "base_uri": "https://localhost:8080/",
          "height": 574
        },
        "id": "S632a0dXraJ7",
        "outputId": "74bb05bd-8480-4662-a33f-1742be05c4c0"
      },
      "source": [
        "# Рассмотрим факторную модель\n",
        "\n",
        "from statsmodels.formula.api import ols\n",
        "\n",
        "print('Корреляционная матрица факторов:\\n',returns[factors].corr())\n",
        "\n",
        "ols(\"JPMorgan ~ SnP + FX + Oil\", returns).fit().summary()"
      ],
      "execution_count": null,
      "outputs": [
        {
          "output_type": "stream",
          "name": "stdout",
          "text": [
            "Корреляционная матрица факторов:\n",
            "           SnP        FX       Oil\n",
            "SnP  1.000000 -0.013997  0.304237\n",
            "FX  -0.013997  1.000000  0.013092\n",
            "Oil  0.304237  0.013092  1.000000\n"
          ]
        },
        {
          "output_type": "execute_result",
          "data": {
            "text/plain": [
              "<class 'statsmodels.iolib.summary.Summary'>\n",
              "\"\"\"\n",
              "                            OLS Regression Results                            \n",
              "==============================================================================\n",
              "Dep. Variable:               JPMorgan   R-squared:                       0.651\n",
              "Model:                            OLS   Adj. R-squared:                  0.646\n",
              "Method:                 Least Squares   F-statistic:                     135.4\n",
              "Date:                Thu, 20 Oct 2022   Prob (F-statistic):           1.51e-49\n",
              "Time:                        09:03:57   Log-Likelihood:                 541.65\n",
              "No. Observations:                 222   AIC:                            -1075.\n",
              "Df Residuals:                     218   BIC:                            -1062.\n",
              "Df Model:                           3                                         \n",
              "Covariance Type:            nonrobust                                         \n",
              "==============================================================================\n",
              "                 coef    std err          t      P>|t|      [0.025      0.975]\n",
              "------------------------------------------------------------------------------\n",
              "Intercept     -0.0004      0.001     -0.302      0.763      -0.003       0.002\n",
              "SnP            1.2579      0.066     19.197      0.000       1.129       1.387\n",
              "FX            -1.3011      0.498     -2.615      0.010      -2.282      -0.320\n",
              "Oil           -0.0146      0.021     -0.693      0.489      -0.056       0.027\n",
              "==============================================================================\n",
              "Omnibus:                       64.487   Durbin-Watson:                   2.117\n",
              "Prob(Omnibus):                  0.000   Jarque-Bera (JB):              300.952\n",
              "Skew:                           1.050   Prob(JB):                     4.46e-66\n",
              "Kurtosis:                       8.304   Cond. No.                         348.\n",
              "==============================================================================\n",
              "\n",
              "Notes:\n",
              "[1] Standard Errors assume that the covariance matrix of the errors is correctly specified.\n",
              "\"\"\""
            ],
            "text/html": [
              "<table class=\"simpletable\">\n",
              "<caption>OLS Regression Results</caption>\n",
              "<tr>\n",
              "  <th>Dep. Variable:</th>        <td>JPMorgan</td>     <th>  R-squared:         </th> <td>   0.651</td>\n",
              "</tr>\n",
              "<tr>\n",
              "  <th>Model:</th>                   <td>OLS</td>       <th>  Adj. R-squared:    </th> <td>   0.646</td>\n",
              "</tr>\n",
              "<tr>\n",
              "  <th>Method:</th>             <td>Least Squares</td>  <th>  F-statistic:       </th> <td>   135.4</td>\n",
              "</tr>\n",
              "<tr>\n",
              "  <th>Date:</th>             <td>Thu, 20 Oct 2022</td> <th>  Prob (F-statistic):</th> <td>1.51e-49</td>\n",
              "</tr>\n",
              "<tr>\n",
              "  <th>Time:</th>                 <td>09:03:57</td>     <th>  Log-Likelihood:    </th> <td>  541.65</td>\n",
              "</tr>\n",
              "<tr>\n",
              "  <th>No. Observations:</th>      <td>   222</td>      <th>  AIC:               </th> <td>  -1075.</td>\n",
              "</tr>\n",
              "<tr>\n",
              "  <th>Df Residuals:</th>          <td>   218</td>      <th>  BIC:               </th> <td>  -1062.</td>\n",
              "</tr>\n",
              "<tr>\n",
              "  <th>Df Model:</th>              <td>     3</td>      <th>                     </th>     <td> </td>   \n",
              "</tr>\n",
              "<tr>\n",
              "  <th>Covariance Type:</th>      <td>nonrobust</td>    <th>                     </th>     <td> </td>   \n",
              "</tr>\n",
              "</table>\n",
              "<table class=\"simpletable\">\n",
              "<tr>\n",
              "      <td></td>         <th>coef</th>     <th>std err</th>      <th>t</th>      <th>P>|t|</th>  <th>[0.025</th>    <th>0.975]</th>  \n",
              "</tr>\n",
              "<tr>\n",
              "  <th>Intercept</th> <td>   -0.0004</td> <td>    0.001</td> <td>   -0.302</td> <td> 0.763</td> <td>   -0.003</td> <td>    0.002</td>\n",
              "</tr>\n",
              "<tr>\n",
              "  <th>SnP</th>       <td>    1.2579</td> <td>    0.066</td> <td>   19.197</td> <td> 0.000</td> <td>    1.129</td> <td>    1.387</td>\n",
              "</tr>\n",
              "<tr>\n",
              "  <th>FX</th>        <td>   -1.3011</td> <td>    0.498</td> <td>   -2.615</td> <td> 0.010</td> <td>   -2.282</td> <td>   -0.320</td>\n",
              "</tr>\n",
              "<tr>\n",
              "  <th>Oil</th>       <td>   -0.0146</td> <td>    0.021</td> <td>   -0.693</td> <td> 0.489</td> <td>   -0.056</td> <td>    0.027</td>\n",
              "</tr>\n",
              "</table>\n",
              "<table class=\"simpletable\">\n",
              "<tr>\n",
              "  <th>Omnibus:</th>       <td>64.487</td> <th>  Durbin-Watson:     </th> <td>   2.117</td>\n",
              "</tr>\n",
              "<tr>\n",
              "  <th>Prob(Omnibus):</th> <td> 0.000</td> <th>  Jarque-Bera (JB):  </th> <td> 300.952</td>\n",
              "</tr>\n",
              "<tr>\n",
              "  <th>Skew:</th>          <td> 1.050</td> <th>  Prob(JB):          </th> <td>4.46e-66</td>\n",
              "</tr>\n",
              "<tr>\n",
              "  <th>Kurtosis:</th>      <td> 8.304</td> <th>  Cond. No.          </th> <td>    348.</td>\n",
              "</tr>\n",
              "</table><br/><br/>Notes:<br/>[1] Standard Errors assume that the covariance matrix of the errors is correctly specified."
            ]
          },
          "metadata": {},
          "execution_count": 221
        }
      ]
    },
    {
      "cell_type": "code",
      "metadata": {
        "colab": {
          "base_uri": "https://localhost:8080/"
        },
        "id": "6i8Fpzi6r09v",
        "outputId": "7e57f13b-2394-4ace-8639-0096a2e8bd7a"
      },
      "source": [
        "import statsmodels.api as sm\n",
        "\n",
        "# data_returns = returns[portfolio]\n",
        "# factor_returns = returns[factors]\n",
        "\n",
        "factors_map = {\n",
        "    \"JPMorgan\": [\"SnP\",\"FX\"],\n",
        "    \"Microsoft\": [\"SnP\"],\n",
        "    \"ExxonMobil\": [\"SnP\", \"Oil\"],\n",
        "    \"Pfizer\": [\"SnP\"]\n",
        "}\n",
        "\n",
        "# Коэффициенты регрессии (коэффициенты чувствительности доходностей к риск-факторам)\n",
        "factor_loadings = {\n",
        "    name: sm.OLS(returns[name], returns[factors_map[name]]).fit().params # no constant\n",
        "    for name in portfolio\n",
        "}\n",
        "\n",
        "indvidual_risk ={\n",
        "    name: np.sqrt(sm.OLS(returns[name], returns[factors_map[name]]).fit().mse_resid) # std остатков от регрессии\n",
        "    for name in portfolio\n",
        "}\n",
        "\n",
        "print('Словарь коэффициентов регрессии:\\n', factor_loadings)\n",
        "print('\\nСловарь ст.отклонения остатков:\\n', indvidual_risk)"
      ],
      "execution_count": null,
      "outputs": [
        {
          "output_type": "stream",
          "name": "stdout",
          "text": [
            "Словарь коэффициентов регрессии:\n",
            " {'JPMorgan': SnP    1.243301\n",
            "FX    -1.323133\n",
            "dtype: float64, 'Microsoft': SnP    1.12719\n",
            "dtype: float64, 'ExxonMobil': SnP    0.982189\n",
            "Oil    0.070108\n",
            "dtype: float64, 'Pfizer': SnP    0.699992\n",
            "dtype: float64}\n",
            "\n",
            "Словарь ст.отклонения остатков:\n",
            " {'JPMorgan': 0.021217060130120344, 'Microsoft': 0.014193412416881044, 'ExxonMobil': 0.024442701300611585, 'Pfizer': 0.018133273132935897}\n"
          ]
        }
      ]
    },
    {
      "cell_type": "code",
      "source": [
        "factor_loadings['ExxonMobil']"
      ],
      "metadata": {
        "id": "8lwosjZCEwhV"
      },
      "execution_count": null,
      "outputs": []
    },
    {
      "cell_type": "code",
      "metadata": {
        "colab": {
          "base_uri": "https://localhost:8080/",
          "height": 175
        },
        "id": "-hbzW_swr5A-",
        "outputId": "198a8baf-18a3-44ef-8461-7de1097308a0"
      },
      "source": [
        "sensitivities = pd.DataFrame(factor_loadings).T.fillna(0)\n",
        "sensitivities"
      ],
      "execution_count": null,
      "outputs": [
        {
          "output_type": "execute_result",
          "data": {
            "text/plain": [
              "                  FX       Oil       SnP\n",
              "JPMorgan   -1.323133  0.000000  1.243301\n",
              "Microsoft   0.000000  0.000000  1.127190\n",
              "ExxonMobil  0.000000  0.070108  0.982189\n",
              "Pfizer      0.000000  0.000000  0.699992"
            ],
            "text/html": [
              "\n",
              "  <div id=\"df-581ed5fa-4824-40e9-bf2d-02743f35c394\">\n",
              "    <div class=\"colab-df-container\">\n",
              "      <div>\n",
              "<style scoped>\n",
              "    .dataframe tbody tr th:only-of-type {\n",
              "        vertical-align: middle;\n",
              "    }\n",
              "\n",
              "    .dataframe tbody tr th {\n",
              "        vertical-align: top;\n",
              "    }\n",
              "\n",
              "    .dataframe thead th {\n",
              "        text-align: right;\n",
              "    }\n",
              "</style>\n",
              "<table border=\"1\" class=\"dataframe\">\n",
              "  <thead>\n",
              "    <tr style=\"text-align: right;\">\n",
              "      <th></th>\n",
              "      <th>FX</th>\n",
              "      <th>Oil</th>\n",
              "      <th>SnP</th>\n",
              "    </tr>\n",
              "  </thead>\n",
              "  <tbody>\n",
              "    <tr>\n",
              "      <th>JPMorgan</th>\n",
              "      <td>-1.323133</td>\n",
              "      <td>0.000000</td>\n",
              "      <td>1.243301</td>\n",
              "    </tr>\n",
              "    <tr>\n",
              "      <th>Microsoft</th>\n",
              "      <td>0.000000</td>\n",
              "      <td>0.000000</td>\n",
              "      <td>1.127190</td>\n",
              "    </tr>\n",
              "    <tr>\n",
              "      <th>ExxonMobil</th>\n",
              "      <td>0.000000</td>\n",
              "      <td>0.070108</td>\n",
              "      <td>0.982189</td>\n",
              "    </tr>\n",
              "    <tr>\n",
              "      <th>Pfizer</th>\n",
              "      <td>0.000000</td>\n",
              "      <td>0.000000</td>\n",
              "      <td>0.699992</td>\n",
              "    </tr>\n",
              "  </tbody>\n",
              "</table>\n",
              "</div>\n",
              "      <button class=\"colab-df-convert\" onclick=\"convertToInteractive('df-581ed5fa-4824-40e9-bf2d-02743f35c394')\"\n",
              "              title=\"Convert this dataframe to an interactive table.\"\n",
              "              style=\"display:none;\">\n",
              "        \n",
              "  <svg xmlns=\"http://www.w3.org/2000/svg\" height=\"24px\"viewBox=\"0 0 24 24\"\n",
              "       width=\"24px\">\n",
              "    <path d=\"M0 0h24v24H0V0z\" fill=\"none\"/>\n",
              "    <path d=\"M18.56 5.44l.94 2.06.94-2.06 2.06-.94-2.06-.94-.94-2.06-.94 2.06-2.06.94zm-11 1L8.5 8.5l.94-2.06 2.06-.94-2.06-.94L8.5 2.5l-.94 2.06-2.06.94zm10 10l.94 2.06.94-2.06 2.06-.94-2.06-.94-.94-2.06-.94 2.06-2.06.94z\"/><path d=\"M17.41 7.96l-1.37-1.37c-.4-.4-.92-.59-1.43-.59-.52 0-1.04.2-1.43.59L10.3 9.45l-7.72 7.72c-.78.78-.78 2.05 0 2.83L4 21.41c.39.39.9.59 1.41.59.51 0 1.02-.2 1.41-.59l7.78-7.78 2.81-2.81c.8-.78.8-2.07 0-2.86zM5.41 20L4 18.59l7.72-7.72 1.47 1.35L5.41 20z\"/>\n",
              "  </svg>\n",
              "      </button>\n",
              "      \n",
              "  <style>\n",
              "    .colab-df-container {\n",
              "      display:flex;\n",
              "      flex-wrap:wrap;\n",
              "      gap: 12px;\n",
              "    }\n",
              "\n",
              "    .colab-df-convert {\n",
              "      background-color: #E8F0FE;\n",
              "      border: none;\n",
              "      border-radius: 50%;\n",
              "      cursor: pointer;\n",
              "      display: none;\n",
              "      fill: #1967D2;\n",
              "      height: 32px;\n",
              "      padding: 0 0 0 0;\n",
              "      width: 32px;\n",
              "    }\n",
              "\n",
              "    .colab-df-convert:hover {\n",
              "      background-color: #E2EBFA;\n",
              "      box-shadow: 0px 1px 2px rgba(60, 64, 67, 0.3), 0px 1px 3px 1px rgba(60, 64, 67, 0.15);\n",
              "      fill: #174EA6;\n",
              "    }\n",
              "\n",
              "    [theme=dark] .colab-df-convert {\n",
              "      background-color: #3B4455;\n",
              "      fill: #D2E3FC;\n",
              "    }\n",
              "\n",
              "    [theme=dark] .colab-df-convert:hover {\n",
              "      background-color: #434B5C;\n",
              "      box-shadow: 0px 1px 3px 1px rgba(0, 0, 0, 0.15);\n",
              "      filter: drop-shadow(0px 1px 2px rgba(0, 0, 0, 0.3));\n",
              "      fill: #FFFFFF;\n",
              "    }\n",
              "  </style>\n",
              "\n",
              "      <script>\n",
              "        const buttonEl =\n",
              "          document.querySelector('#df-581ed5fa-4824-40e9-bf2d-02743f35c394 button.colab-df-convert');\n",
              "        buttonEl.style.display =\n",
              "          google.colab.kernel.accessAllowed ? 'block' : 'none';\n",
              "\n",
              "        async function convertToInteractive(key) {\n",
              "          const element = document.querySelector('#df-581ed5fa-4824-40e9-bf2d-02743f35c394');\n",
              "          const dataTable =\n",
              "            await google.colab.kernel.invokeFunction('convertToInteractive',\n",
              "                                                     [key], {});\n",
              "          if (!dataTable) return;\n",
              "\n",
              "          const docLinkHtml = 'Like what you see? Visit the ' +\n",
              "            '<a target=\"_blank\" href=https://colab.research.google.com/notebooks/data_table.ipynb>data table notebook</a>'\n",
              "            + ' to learn more about interactive tables.';\n",
              "          element.innerHTML = '';\n",
              "          dataTable['output_type'] = 'display_data';\n",
              "          await google.colab.output.renderOutput(dataTable, element);\n",
              "          const docLink = document.createElement('div');\n",
              "          docLink.innerHTML = docLinkHtml;\n",
              "          element.appendChild(docLink);\n",
              "        }\n",
              "      </script>\n",
              "    </div>\n",
              "  </div>\n",
              "  "
            ]
          },
          "metadata": {},
          "execution_count": 223
        }
      ]
    },
    {
      "cell_type": "code",
      "source": [
        "errors = pd.Series(indvidual_risk).rename('Errors')\n",
        "errors"
      ],
      "metadata": {
        "colab": {
          "base_uri": "https://localhost:8080/"
        },
        "id": "YWz2-aZuOGeH",
        "outputId": "672d8b45-4c2b-4da4-f026-a047fd389175"
      },
      "execution_count": null,
      "outputs": [
        {
          "output_type": "execute_result",
          "data": {
            "text/plain": [
              "JPMorgan      0.021217\n",
              "Microsoft     0.014193\n",
              "ExxonMobil    0.024443\n",
              "Pfizer        0.018133\n",
              "Name: Errors, dtype: float64"
            ]
          },
          "metadata": {},
          "execution_count": 224
        }
      ]
    },
    {
      "cell_type": "markdown",
      "source": [
        "# 2. Портфельный риск"
      ],
      "metadata": {
        "id": "lr2Bq5-eVfB5"
      }
    },
    {
      "cell_type": "markdown",
      "metadata": {
        "id": "YmvJt1B9sfD5"
      },
      "source": [
        "\n",
        "## VaR дельта-нормальным методом\n",
        "\n",
        "Это означает, что факторы имеют совместное нормальное распределение, и вносят свой вклад в портфельный риск в соответствии с матрицей чувствительностей."
      ]
    },
    {
      "cell_type": "code",
      "metadata": {
        "colab": {
          "base_uri": "https://localhost:8080/"
        },
        "id": "RM05yIV5sh0c",
        "outputId": "6d65540e-31ab-448a-ca82-30f71b8e2bb9"
      },
      "source": [
        "# Начнем с факторов\n",
        "\n",
        "covariance_matrix = factor_returns.cov() # ковариационная матрица\n",
        "expected_returns = factor_returns.mean() # вектор средних\n",
        "print(covariance_matrix, \"\\n\\n\", expected_returns)"
      ],
      "execution_count": null,
      "outputs": [
        {
          "output_type": "stream",
          "name": "stdout",
          "text": [
            "              SnP            FX       Oil\n",
            "SnP  5.264020e-04 -9.242840e-07  0.000498\n",
            "FX  -9.242840e-07  8.284228e-06  0.000003\n",
            "Oil  4.979890e-04  2.688238e-06  0.005090 \n",
            "\n",
            " SnP    0.000877\n",
            "FX     0.000293\n",
            "Oil    0.001704\n",
            "dtype: float64\n"
          ]
        }
      ]
    },
    {
      "cell_type": "code",
      "metadata": {
        "colab": {
          "base_uri": "https://localhost:8080/"
        },
        "id": "V3Pvp5-JtGfL",
        "outputId": "ebd076fa-e471-4b68-b2b3-a8195cd83d8e"
      },
      "source": [
        "# Состав портфеля (в штуках/лотах)\n",
        "\n",
        "portfolio_composition"
      ],
      "execution_count": null,
      "outputs": [
        {
          "output_type": "execute_result",
          "data": {
            "text/plain": [
              "JPMorgan      1\n",
              "Microsoft     1\n",
              "ExxonMobil    2\n",
              "Pfizer        3\n",
              "dtype: int64"
            ]
          },
          "metadata": {},
          "execution_count": 230
        }
      ]
    },
    {
      "cell_type": "code",
      "metadata": {
        "colab": {
          "base_uri": "https://localhost:8080/"
        },
        "id": "wghX31Vos2aT",
        "outputId": "ce0ed040-d822-4d78-a45a-c5720a56fb77"
      },
      "source": [
        "# Стоимостная структура портфеля\n",
        "\n",
        "portfolio_dollar_composition = portfolio_composition * quote_data.loc[quote_data.index.max(),portfolio] # Внимание к дате - это важно для правильного определения стоимостной структуры портфеля\n",
        "portfolio_value = portfolio_dollar_composition.sum()\n",
        "\n",
        "weights = portfolio_dollar_composition / portfolio_value\n",
        "weights"
      ],
      "execution_count": null,
      "outputs": [
        {
          "output_type": "execute_result",
          "data": {
            "text/plain": [
              "JPMorgan      0.229490\n",
              "Microsoft     0.422810\n",
              "ExxonMobil    0.147118\n",
              "Pfizer        0.200581\n",
              "dtype: float64"
            ]
          },
          "metadata": {},
          "execution_count": 231
        }
      ]
    },
    {
      "cell_type": "code",
      "source": [
        "display(sensitivities)\n",
        "display(weights)"
      ],
      "metadata": {
        "colab": {
          "base_uri": "https://localhost:8080/",
          "height": 265
        },
        "id": "Ih3sIjJXrgNq",
        "outputId": "8a5bfd5d-406c-4b03-ed57-61a1c21cc677"
      },
      "execution_count": null,
      "outputs": [
        {
          "output_type": "display_data",
          "data": {
            "text/plain": [
              "                  FX       Oil       SnP\n",
              "JPMorgan   -1.323133  0.000000  1.243301\n",
              "Microsoft   0.000000  0.000000  1.127190\n",
              "ExxonMobil  0.000000  0.070108  0.982189\n",
              "Pfizer      0.000000  0.000000  0.699992"
            ],
            "text/html": [
              "\n",
              "  <div id=\"df-7d77d4f3-a07b-4c52-b05a-8e83e9afbe59\">\n",
              "    <div class=\"colab-df-container\">\n",
              "      <div>\n",
              "<style scoped>\n",
              "    .dataframe tbody tr th:only-of-type {\n",
              "        vertical-align: middle;\n",
              "    }\n",
              "\n",
              "    .dataframe tbody tr th {\n",
              "        vertical-align: top;\n",
              "    }\n",
              "\n",
              "    .dataframe thead th {\n",
              "        text-align: right;\n",
              "    }\n",
              "</style>\n",
              "<table border=\"1\" class=\"dataframe\">\n",
              "  <thead>\n",
              "    <tr style=\"text-align: right;\">\n",
              "      <th></th>\n",
              "      <th>FX</th>\n",
              "      <th>Oil</th>\n",
              "      <th>SnP</th>\n",
              "    </tr>\n",
              "  </thead>\n",
              "  <tbody>\n",
              "    <tr>\n",
              "      <th>JPMorgan</th>\n",
              "      <td>-1.323133</td>\n",
              "      <td>0.000000</td>\n",
              "      <td>1.243301</td>\n",
              "    </tr>\n",
              "    <tr>\n",
              "      <th>Microsoft</th>\n",
              "      <td>0.000000</td>\n",
              "      <td>0.000000</td>\n",
              "      <td>1.127190</td>\n",
              "    </tr>\n",
              "    <tr>\n",
              "      <th>ExxonMobil</th>\n",
              "      <td>0.000000</td>\n",
              "      <td>0.070108</td>\n",
              "      <td>0.982189</td>\n",
              "    </tr>\n",
              "    <tr>\n",
              "      <th>Pfizer</th>\n",
              "      <td>0.000000</td>\n",
              "      <td>0.000000</td>\n",
              "      <td>0.699992</td>\n",
              "    </tr>\n",
              "  </tbody>\n",
              "</table>\n",
              "</div>\n",
              "      <button class=\"colab-df-convert\" onclick=\"convertToInteractive('df-7d77d4f3-a07b-4c52-b05a-8e83e9afbe59')\"\n",
              "              title=\"Convert this dataframe to an interactive table.\"\n",
              "              style=\"display:none;\">\n",
              "        \n",
              "  <svg xmlns=\"http://www.w3.org/2000/svg\" height=\"24px\"viewBox=\"0 0 24 24\"\n",
              "       width=\"24px\">\n",
              "    <path d=\"M0 0h24v24H0V0z\" fill=\"none\"/>\n",
              "    <path d=\"M18.56 5.44l.94 2.06.94-2.06 2.06-.94-2.06-.94-.94-2.06-.94 2.06-2.06.94zm-11 1L8.5 8.5l.94-2.06 2.06-.94-2.06-.94L8.5 2.5l-.94 2.06-2.06.94zm10 10l.94 2.06.94-2.06 2.06-.94-2.06-.94-.94-2.06-.94 2.06-2.06.94z\"/><path d=\"M17.41 7.96l-1.37-1.37c-.4-.4-.92-.59-1.43-.59-.52 0-1.04.2-1.43.59L10.3 9.45l-7.72 7.72c-.78.78-.78 2.05 0 2.83L4 21.41c.39.39.9.59 1.41.59.51 0 1.02-.2 1.41-.59l7.78-7.78 2.81-2.81c.8-.78.8-2.07 0-2.86zM5.41 20L4 18.59l7.72-7.72 1.47 1.35L5.41 20z\"/>\n",
              "  </svg>\n",
              "      </button>\n",
              "      \n",
              "  <style>\n",
              "    .colab-df-container {\n",
              "      display:flex;\n",
              "      flex-wrap:wrap;\n",
              "      gap: 12px;\n",
              "    }\n",
              "\n",
              "    .colab-df-convert {\n",
              "      background-color: #E8F0FE;\n",
              "      border: none;\n",
              "      border-radius: 50%;\n",
              "      cursor: pointer;\n",
              "      display: none;\n",
              "      fill: #1967D2;\n",
              "      height: 32px;\n",
              "      padding: 0 0 0 0;\n",
              "      width: 32px;\n",
              "    }\n",
              "\n",
              "    .colab-df-convert:hover {\n",
              "      background-color: #E2EBFA;\n",
              "      box-shadow: 0px 1px 2px rgba(60, 64, 67, 0.3), 0px 1px 3px 1px rgba(60, 64, 67, 0.15);\n",
              "      fill: #174EA6;\n",
              "    }\n",
              "\n",
              "    [theme=dark] .colab-df-convert {\n",
              "      background-color: #3B4455;\n",
              "      fill: #D2E3FC;\n",
              "    }\n",
              "\n",
              "    [theme=dark] .colab-df-convert:hover {\n",
              "      background-color: #434B5C;\n",
              "      box-shadow: 0px 1px 3px 1px rgba(0, 0, 0, 0.15);\n",
              "      filter: drop-shadow(0px 1px 2px rgba(0, 0, 0, 0.3));\n",
              "      fill: #FFFFFF;\n",
              "    }\n",
              "  </style>\n",
              "\n",
              "      <script>\n",
              "        const buttonEl =\n",
              "          document.querySelector('#df-7d77d4f3-a07b-4c52-b05a-8e83e9afbe59 button.colab-df-convert');\n",
              "        buttonEl.style.display =\n",
              "          google.colab.kernel.accessAllowed ? 'block' : 'none';\n",
              "\n",
              "        async function convertToInteractive(key) {\n",
              "          const element = document.querySelector('#df-7d77d4f3-a07b-4c52-b05a-8e83e9afbe59');\n",
              "          const dataTable =\n",
              "            await google.colab.kernel.invokeFunction('convertToInteractive',\n",
              "                                                     [key], {});\n",
              "          if (!dataTable) return;\n",
              "\n",
              "          const docLinkHtml = 'Like what you see? Visit the ' +\n",
              "            '<a target=\"_blank\" href=https://colab.research.google.com/notebooks/data_table.ipynb>data table notebook</a>'\n",
              "            + ' to learn more about interactive tables.';\n",
              "          element.innerHTML = '';\n",
              "          dataTable['output_type'] = 'display_data';\n",
              "          await google.colab.output.renderOutput(dataTable, element);\n",
              "          const docLink = document.createElement('div');\n",
              "          docLink.innerHTML = docLinkHtml;\n",
              "          element.appendChild(docLink);\n",
              "        }\n",
              "      </script>\n",
              "    </div>\n",
              "  </div>\n",
              "  "
            ]
          },
          "metadata": {}
        },
        {
          "output_type": "display_data",
          "data": {
            "text/plain": [
              "JPMorgan      0.229490\n",
              "Microsoft     0.422810\n",
              "ExxonMobil    0.147118\n",
              "Pfizer        0.200581\n",
              "dtype: float64"
            ]
          },
          "metadata": {}
        }
      ]
    },
    {
      "cell_type": "code",
      "source": [
        " weights @ sensitivities # коэффициенты чувствительности портфеля к риск-факторам"
      ],
      "metadata": {
        "colab": {
          "base_uri": "https://localhost:8080/"
        },
        "id": "_lzkJ5H9sHXu",
        "outputId": "074a5e3a-5a3c-4f4c-b46e-d8466689d9a8"
      },
      "execution_count": null,
      "outputs": [
        {
          "output_type": "execute_result",
          "data": {
            "text/plain": [
              "FX    -0.303646\n",
              "Oil    0.010314\n",
              "SnP    1.046816\n",
              "dtype: float64"
            ]
          },
          "metadata": {},
          "execution_count": 234
        }
      ]
    },
    {
      "cell_type": "code",
      "metadata": {
        "colab": {
          "base_uri": "https://localhost:8080/"
        },
        "id": "40nGl2PdtQsR",
        "outputId": "2c1ce29b-b1bd-4c55-d8ea-c9c1dc1e8ac6"
      },
      "source": [
        "# Параметры распределения доходности портфеля\n",
        "\n",
        "portfolio_mu = (weights @ sensitivities) @ expected_returns\n",
        "\n",
        "# portfolio_sigma = np.sqrt((weights @ sensitivities) @ covariance_matrix @ (sensitivities.T @ weights))\n",
        "portfolio_sigma = np.sqrt((weights @ sensitivities) @ covariance_matrix @ (sensitivities.T @ weights) + weights**2 @ errors**2) # предполагаю индивидуальные риски независимыми\n",
        "\n",
        "print('Ожидаемая доходность: {:.2%}, волатильности: {:.2%}'.format(portfolio_mu, portfolio_sigma))"
      ],
      "execution_count": null,
      "outputs": [
        {
          "output_type": "stream",
          "name": "stdout",
          "text": [
            "Ожидаемая доходность: 0.08%, волатильности: 2.60%\n"
          ]
        }
      ]
    },
    {
      "cell_type": "code",
      "source": [
        "# Параметры VaR\n",
        "\n",
        "level = 0.99\n",
        "\n",
        "VaR = - ss.norm(portfolio_mu, portfolio_sigma).ppf(1-level)\n",
        "print('Относительный VaR: {:.2%}, абсолютный VaR: {:.2f}'.format(VaR, VaR * portfolio_value))"
      ],
      "metadata": {
        "colab": {
          "base_uri": "https://localhost:8080/"
        },
        "id": "M60Q5Ckks_iT",
        "outputId": "74c5c075-9a20-4f71-f54a-a43131c3a7a1"
      },
      "execution_count": null,
      "outputs": [
        {
          "output_type": "stream",
          "name": "stdout",
          "text": [
            "Относительный VaR: 5.96%, абсолютный VaR: 30.79\n"
          ]
        }
      ]
    },
    {
      "cell_type": "code",
      "metadata": {
        "colab": {
          "base_uri": "https://localhost:8080/"
        },
        "id": "nSpE6KZ2uHO_",
        "outputId": "5452d860-b867-4b82-f6c8-01ceec575843"
      },
      "source": [
        "# VaR можно было бы вычислить и сразу в деньгах (но это не принципиально)\n",
        "\n",
        "portfolio_mu = portfolio_dollar_composition @ sensitivities @ expected_returns\n",
        "portfolio_sigma = np.sqrt(portfolio_dollar_composition @ sensitivities @ covariance_matrix @ sensitivities.T @ portfolio_dollar_composition)\n",
        "portfolio_mu, portfolio_sigma\n",
        "\n",
        "VaR = - ss.norm(portfolio_mu, portfolio_sigma).ppf(0.01)\n",
        "VaR"
      ],
      "execution_count": null,
      "outputs": [
        {
          "output_type": "execute_result",
          "data": {
            "text/plain": [
              "28.739208596202605"
            ]
          },
          "metadata": {},
          "execution_count": 238
        }
      ]
    },
    {
      "cell_type": "markdown",
      "metadata": {
        "id": "-GppsD0buWp1"
      },
      "source": [
        "## VaR историческим методом"
      ]
    },
    {
      "cell_type": "code",
      "metadata": {
        "id": "iwyQTPMkuYWi"
      },
      "source": [
        "# Просто формируем историческую выборку\n",
        "scenarios = factor_returns @ sensitivities.T\n",
        "\n",
        "portfolio_scenarios = scenarios @ weights\n",
        "\n",
        "VaR = - portfolio_scenarios.quantile(1 - level, interpolation='higher')\n",
        "VaR_dollars = - (scenarios @ portfolio_dollar_composition).quantile(1 - level, interpolation='higher')\n",
        "\n",
        "VaR, VaR * portfolio_value, VaR_dollars"
      ],
      "execution_count": null,
      "outputs": []
    },
    {
      "cell_type": "code",
      "metadata": {
        "id": "WXv-mmsQugpl"
      },
      "source": [
        "factor_returns"
      ],
      "execution_count": null,
      "outputs": []
    },
    {
      "cell_type": "code",
      "metadata": {
        "id": "Df0jAvFrv1bT"
      },
      "source": [
        "portfolio_scenarios.hist(bins=30)\n",
        "plt.axvline(-VaR, color='r')"
      ],
      "execution_count": null,
      "outputs": []
    },
    {
      "cell_type": "markdown",
      "metadata": {
        "id": "0hZCzY2cwOmy"
      },
      "source": [
        "# Задача хеджирования\n",
        "Дано: чувствительность доходности портфеля: 0.5 к S&P и -0.3 к нефти.\n",
        "\n",
        "2 хеджирующих инструмента:\n",
        "\n",
        "- фьючерс на S&P: чувствительность к S&P -- 1.04,\n",
        "- фьючерс на нефть: чувствительность к индексу -0.1 и к нефти 0.95.\n",
        "\n",
        "Найти состав хеджирующего портфеля: $x$ фьючерсов на S&P и $y$ фьючерсов на нефть.\n",
        "\n",
        "Хеджирование удалось: все чувствительности = 0.\n",
        "\n",
        "Чувствительность к S&P: $$0.5 + x\\cdot 1.04 + y\\cdot(-0.1) = 0$$\n",
        "Чувствительность к нефти: $$-0.3 + y\\cdot 0.95=0$$\n",
        "\n",
        "Решение: $x=-0.45,\\,y=0.32$ -- это не штуки, а веса, т.к. исходные чувствительности -- относительные. Их нужно домножить на стоимость портфеля, чтобы получить доллары.\n",
        "\n",
        "Если бы исходные чувствительности были в долларах, то ответ в штуках."
      ]
    },
    {
      "cell_type": "markdown",
      "metadata": {
        "id": "6emzVjFeyVXU"
      },
      "source": [
        "### А теперь то же самое, но в штуках\n",
        "Дано: чувствительность цены портфеля в млн. долларов: 5 к S&P и -3 к нефти.\n",
        "\n",
        "2 хеджирующих инструмента: фьючерс на S&P: чувствительность к S&P -- 104,000 долларов, фьючерс на нефть: чувствительность к индексу -10,000 долларов и к нефти 95,000 долларов.\n",
        "\n",
        "Найти состав хеджирующего портфеля: $x$ фьючерсов на S&P и $y$ фьючерсов на нефть.\n",
        "\n",
        "Хеджирование удалось: все чувствительности = 0.\n",
        "Чувствительность к S&P: $$5,000,000 + x\\cdot 104,000 + y\\cdot(-10,000) = 0$$\n",
        "Чувствительность к нефти: $$-3,000,000 + y\\cdot 95,000=0$$\n"
      ]
    },
    {
      "cell_type": "code",
      "metadata": {
        "id": "YwQuzVxVyjhL"
      },
      "source": [
        "hedging_amounts = np.linalg.solve(np.array([[104000, -10000],[0, 95000]]), np.array([5000000,-3000000]))\n",
        "hedging_amounts = np.round(hedging_amounts)\n",
        "hedging_amounts"
      ],
      "execution_count": null,
      "outputs": []
    },
    {
      "cell_type": "markdown",
      "metadata": {
        "id": "3xIw6pZc0MYf"
      },
      "source": [
        "## Задача\n",
        "Портфель имеет чувствительности в 15 млн и 20 млн к риск-факторам A и B.\n",
        "Дана матрица ковариаций доходностей факторов A и B:\n",
        "\n",
        "| |A|B|\n",
        "|:-|:-:|:-:|\n",
        "|A|0.01|0.005|\n",
        "|B|0.005|0.03|\n",
        "\n",
        "VaR на уровне 99% оценивают дельта-нормальным методом. Лимит на VaR равен 5 млн. Захеджировать портфель инструментом с чувствительностями 1 млн и -2 млн соответственно -- так, чтобы уложиться в лимит."
      ]
    },
    {
      "cell_type": "code",
      "metadata": {
        "colab": {
          "base_uri": "https://localhost:8080/"
        },
        "id": "-wccMQvB1Iiy",
        "outputId": "b58356d2-44c1-4779-a9bf-768aa32191d1"
      },
      "source": [
        "covariance = pd.DataFrame({'A': [0.01,0.005], 'B': [0.005, 0.03]}, index=['A','B'])\n",
        "sensitivities = pd.Series({'A': 15, 'B': 20})\n",
        "portfolio_sigma = np.sqrt(sensitivities @ covariance @ sensitivities.T)\n",
        "VaR = ss.norm.ppf(0.99) * portfolio_sigma\n",
        "VaR"
      ],
      "execution_count": null,
      "outputs": [
        {
          "output_type": "execute_result",
          "data": {
            "text/plain": [
              "9.66204838197819"
            ]
          },
          "metadata": {},
          "execution_count": 196
        }
      ]
    },
    {
      "cell_type": "markdown",
      "metadata": {
        "id": "70_Wxb811lCH"
      },
      "source": [
        "Пусть $s$ -- вектор чувствительностей портфеля, $a$ -- чувствительности инструмента, $x$ -- количество инструмента в хеджирующем портфеле.\n",
        "$$\n",
        "\\sigma^2=(s + a\\cdot x)^T\\Sigma(s+a\\cdot x)\\to\\min\n",
        "$$\n",
        "$$\n",
        "a^T\\Sigma a\\cdot x^2 + 2a^T\\Sigma s \\cdot x\\to\\min\n",
        "$$\n",
        "$$\n",
        "x = -\\frac{a^T\\Sigma s}{a^T\\Sigma a}\n",
        "$$"
      ]
    },
    {
      "cell_type": "code",
      "metadata": {
        "id": "Kiqb_ITB2WP_"
      },
      "source": [
        "a = pd.Series({'A': 1, 'B': -2})\n",
        "x = np.round( - (a@ covariance @ sensitivities) / (a @ covariance @ a))\n",
        "x"
      ],
      "execution_count": null,
      "outputs": []
    },
    {
      "cell_type": "code",
      "metadata": {
        "id": "dQZmLZRx2lTP"
      },
      "source": [
        "portfolio_sigma = np.sqrt((sensitivities + x * a) @ covariance @ (sensitivities + x * a))\n",
        "VaR = ss.norm.ppf(0.99) * portfolio_sigma\n",
        "VaR"
      ],
      "execution_count": null,
      "outputs": []
    },
    {
      "cell_type": "markdown",
      "metadata": {
        "id": "QNV0_APA3Bys"
      },
      "source": [
        "Снизить VaR меньше, чем до 5.8 млн при помощи этого инструмента нельзя."
      ]
    }
  ]
}