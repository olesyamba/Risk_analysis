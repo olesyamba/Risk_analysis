{
  "cells": [
    {
      "cell_type": "markdown",
      "metadata": {
        "id": "view-in-github",
        "colab_type": "text"
      },
      "source": [
        "<a href=\"https://colab.research.google.com/github/olesyamba/Risk_analysis/blob/main/Practice_task_Portfolio_Risk_Hedg_Optimization.ipynb\" target=\"_parent\"><img src=\"https://colab.research.google.com/assets/colab-badge.svg\" alt=\"Open In Colab\"/></a>"
      ]
    },
    {
      "cell_type": "code",
      "execution_count": null,
      "metadata": {
        "id": "0XhfPtrejKhj"
      },
      "outputs": [],
      "source": [
        "# Для хранения, обработки данных и математических вычислений\n",
        "import numpy as np\n",
        "!pip install --upgrade pandas>=1.2\n",
        "import pandas as pd\n",
        "import scipy.stats as ss"
      ]
    },
    {
      "cell_type": "markdown",
      "metadata": {
        "id": "0hZCzY2cwOmy"
      },
      "source": [
        "# 1. Хеджирования в терминах чувствительностей\n",
        "Дано: чувствительность доходности портфеля: 0.5 к S&P и -0.3 к нефти.\n",
        "\n",
        "2 хеджирующих инструмента:\n",
        "\n",
        "- фьючерс на S&P: чувствительность к S&P 1.04,\n",
        "- фьючерс на нефть: чувствительность к индексу -0.1 и к нефти 0.95.\n",
        "\n",
        "Найти структуру хеджирующего портфеля.\n",
        "\n",
        "Цель: свести все чувствительности к 0.\n",
        "\n",
        "- Чувствительность к S&P: $0.5 + 1.04\\cdot x - 0.1 \\cdot y = 0$\n",
        "\n",
        "- Чувствительность к нефти: $-0.3 + 0.95 \\cdot y = 0$\n"
      ]
    },
    {
      "cell_type": "code",
      "source": [
        "y = 0.3/0.95\n",
        "x = - (0.5 - 0.1*y)/1.04\n",
        "print('Фьюч S&P {:.4f}, фьюч на нефть {:.4f}'.format(x, y))\n",
        "\n",
        "# Чтобы найти стратегию хеджирования в штуках, нужно знать объем портфеля и цену фьючерсных контрактов."
      ],
      "metadata": {
        "colab": {
          "base_uri": "https://localhost:8080/"
        },
        "id": "1j08OyvnegGX",
        "outputId": "1792a531-71c9-4378-ae8d-2a3436c19162"
      },
      "execution_count": null,
      "outputs": [
        {
          "output_type": "stream",
          "name": "stdout",
          "text": [
            "Фьюч S&P -0.4504, фьюч на нефть 0.3158\n"
          ]
        }
      ]
    },
    {
      "cell_type": "markdown",
      "metadata": {
        "id": "6emzVjFeyVXU"
      },
      "source": [
        "# 2. Хеджирования в терминах чувствительностей\n",
        "Дано: чувствительность цены портфеля в млн. долларов: 5 к S&P и -3 к нефти.\n",
        "\n",
        "2 хеджирующих инструмента:\n",
        "- фьючерс на S&P: чувствительность к S&P -- 104,000 долларов,\n",
        "- фьючерс на нефть: чувствительность к индексу -10,000 долларов и к нефти 95,000 долларов.\n",
        "\n",
        "Найти состав хеджирующего портфеля.\n",
        "\n",
        "- Чувствительность к S&P: $5 + 0.104\\cdot x - 0.01 \\cdot y = 0$\n",
        "\n",
        "- Чувствительность к нефти: $-3 + 0.095 \\cdot y = 0$\n"
      ]
    },
    {
      "cell_type": "code",
      "source": [
        "y = 3/0.095\n",
        "x = - (5 - 0.01*y)/0.104\n",
        "print('Количество фьючерсов S&P {:.4f}, количество фьючерсов на нефть {:.4f}'.format(x, y))"
      ],
      "metadata": {
        "colab": {
          "base_uri": "https://localhost:8080/"
        },
        "id": "gBz43g2xgZwB",
        "outputId": "33cd75b0-65bc-4bd4-9554-68d08107c108"
      },
      "execution_count": null,
      "outputs": [
        {
          "output_type": "stream",
          "name": "stdout",
          "text": [
            "Количество фьючерсов S&P -45.0405, количество фьючерсов на нефть 31.5789\n"
          ]
        }
      ]
    },
    {
      "cell_type": "markdown",
      "metadata": {
        "id": "3xIw6pZc0MYf"
      },
      "source": [
        "# 3. Соответствие ограничениям по риску\n",
        "\n",
        "Текущий портфель имеет чувствительности в 15 млн и 20 млн к риск-факторам A и B.\n",
        "\n",
        "Ковариационная матрица доходностей факторов A и B:\n",
        "\n",
        "| |A|B|\n",
        "|:-|:-:|:-:|\n",
        "|A|0.01|0.005|\n",
        "|B|0.005|0.03|\n",
        "\n",
        "VaR на уровне 99% оценивают дельта-нормальным методом.\n",
        "\n",
        "На VaR портфеля установлен лимит 5 млн. Захеджировать портфель инструментом с чувствительностями :\n",
        "- к  А 1 млн,\n",
        "- к В -2 млн соответственно,\n",
        "\n",
        "так, чтобы уложиться в лимит.\n",
        "\n",
        "Алгоритм:\n",
        "\n",
        "- нужно ли это?\n",
        "- это вообще возможно?\n",
        "- если возможно, то как это сделать?"
      ]
    },
    {
      "cell_type": "code",
      "source": [
        "# Ковариационная матрица\n",
        "cov = pd.DataFrame({'A':[0.01, 0.005], 'B': [0.005, 0.03]}, index = ['A', 'B'])\n",
        "print('Ковариационная матрица факторов\\n', cov)\n",
        "\n",
        "# Чувствительности исходного портфеля\n",
        "s = pd.Series({'A':15, 'B': 20})\n",
        "print('Вектор чувствительностей исходного портфеля\\n', s)\n",
        "\n",
        "sigma_prt = np.sqrt(s @ cov @ s.T) # сигма изменений стоимости портфеля\n",
        "print('Сигма исходного портфеля:', sigma_prt)\n",
        "\n",
        "level = .99\n",
        "VaR_99 = sigma_prt*ss.norm.ppf(level)\n",
        "print('VaR 99%', VaR_99)"
      ],
      "metadata": {
        "colab": {
          "base_uri": "https://localhost:8080/"
        },
        "id": "vuPpXbwDj2DG",
        "outputId": "0010129d-b4d7-48cd-ea56-8d2abee17648"
      },
      "execution_count": null,
      "outputs": [
        {
          "output_type": "stream",
          "name": "stdout",
          "text": [
            "Ковариационная матрица факторов\n",
            "        A      B\n",
            "A  0.010  0.005\n",
            "B  0.005  0.030\n",
            "Вектор чувствительностей исходного портфеля\n",
            " A    15\n",
            "B    20\n",
            "dtype: int64\n",
            "Сигма исходного портфеля: 4.153311931459037\n",
            "VaR 99% 9.66204838197819\n"
          ]
        }
      ]
    },
    {
      "cell_type": "markdown",
      "source": [
        "- s - чувствительности исходного портфеля\n",
        "- h - чувствительности хеджирующего инструмента\n",
        "- $\\Sigma$ - ковариационная матрица факторов\n",
        "- $$s + x\\cdot h$$ - чувствительности захеджированного портфеля как функция от объема хеджа ($x$)\n",
        "\n",
        "Дисперсия захеджированного портфеля:\n",
        "$$\\sigma^2_p = (s + x\\cdot h) \\Sigma (s + x\\cdot h)^T \\to \\min\\limits_{x} $$\n",
        "\n",
        "$$h\\Sigma h^T x^2 + 2h \\Sigma s x \\to \\min_{x}$$\n",
        "\n",
        "$$2h\\Sigma h^T x + 2h \\Sigma s = 0 $$\n",
        "\n",
        "$$x = - \\frac{h \\Sigma s}{h\\Sigma h^T}$$"
      ],
      "metadata": {
        "id": "HIRjsg5EmMPV"
      }
    },
    {
      "cell_type": "code",
      "source": [
        "# Чувствительности исходного портфеля\n",
        "h = pd.Series({'A':1, 'B': -2})\n",
        "print('Вектор чувствительностей хеджирующего инструмента\\n', h)\n",
        "\n",
        "x = - (h @ cov @ s)/(h @ cov @ h.T)\n",
        "print('Объем хеджирования', x)\n",
        "\n",
        "s_new = s + x*h\n",
        "sigma_prt = np.sqrt(s_new @ cov @ s_new.T) # сигма изменений стоимости портфеля\n",
        "print('Сигма исходного портфеля:', sigma_prt)\n",
        "\n",
        "level = .99\n",
        "VaR_99 = sigma_prt*ss.norm.ppf(level)\n",
        "print('VaR 99%', VaR_99)"
      ],
      "metadata": {
        "colab": {
          "base_uri": "https://localhost:8080/"
        },
        "id": "ugRMh1cooWVT",
        "outputId": "c20c9098-2f03-44ff-a0aa-2b8d8cade2c3"
      },
      "execution_count": null,
      "outputs": [
        {
          "output_type": "stream",
          "name": "stdout",
          "text": [
            "Вектор чувствительностей хеджирующего инструмента\n",
            " A    1\n",
            "B   -2\n",
            "dtype: int64\n",
            "Объем хеджирования 10.0\n",
            "Сигма исходного портфеля: 2.5\n",
            "VaR 99% 5.815869685102102\n"
          ]
        }
      ]
    }
  ],
  "metadata": {
    "colab": {
      "provenance": [],
      "include_colab_link": true
    },
    "kernelspec": {
      "display_name": "Python 3",
      "name": "python3"
    },
    "language_info": {
      "name": "python"
    }
  },
  "nbformat": 4,
  "nbformat_minor": 0
}